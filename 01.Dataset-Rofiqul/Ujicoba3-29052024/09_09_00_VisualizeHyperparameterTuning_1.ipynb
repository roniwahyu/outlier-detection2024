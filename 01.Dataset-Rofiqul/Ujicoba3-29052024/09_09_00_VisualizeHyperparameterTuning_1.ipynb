{
 "cells": [
  {
   "cell_type": "code",
   "execution_count": 2,
   "metadata": {},
   "outputs": [],
   "source": [
    "import pandas as pd\n",
    "\n",
    "# Load the provided CSV files\n",
    "grid_search_results = pd.read_csv('dataset/0908_0_1_00_xgboost_evaluation_CV_GridSearch_IDO.csv')\n",
    "random_search_results = pd.read_csv('dataset/0908_0_2_00_xgboost_evaluation_CV_RandomSearch_IDO.csv')\n",
    "\n",
    "# Combine the results into a single DataFrame\n",
    "combined_results = pd.concat([grid_search_results, random_search_results], ignore_index=True)\n",
    "\n",
    "# Convert Best Params from string to dictionary for better visualization\n",
    "combined_results['Best Params'] = combined_results['Best Params'].apply(eval)\n",
    "\n",
    "# Find the best evaluation for each method and test size based on R2 score\n",
    "best_evaluation = combined_results.loc[combined_results.groupby(['Method', 'Test Size'])['R2'].idxmax()]\n",
    "\n",
    "# Determine the overall best evaluation\n",
    "best_overall_evaluation = best_evaluation.loc[best_evaluation['R2'].idxmax()]\n",
    "\n",
    "# Determine the most efficient method based on duration\n",
    "most_efficient_evaluation = combined_results.loc[combined_results['Duration (s)'].idxmin()]\n",
    "\n",
    "# Extract the best parameters, best test size, and best validation for each method\n",
    "best_params_df = best_evaluation[['Method', 'Test Size', 'Best Params']]\n",
    "best_test_size_df = best_evaluation[['Method', 'Test Size']]\n",
    "best_evaluation_df = best_evaluation[['Method', 'Test Size', 'MAE', 'MSE', 'RMSE', 'R2']]\n",
    "best_time_df = best_evaluation[['Method', 'Test Size', 'Duration (s)']]\n",
    "\n",
    "# Display the DataFrames\n",
    "print(\"Best Parameters for Each Method:\")\n",
    "print(best_params_df)\n",
    "\n",
    "print(\"\\nBest Test Size for Each Method:\")\n",
    "print(best_test_size_df)\n",
    "\n",
    "print(\"\\nBest Evaluation for Each Method:\")\n",
    "print(best_evaluation_df)\n",
    "\n",
    "print(\"\\nMost Efficient Method (Shortest Duration):\")\n",
    "print(most_efficient_evaluation)\n",
    "\n",
    "print(\"\\nBest Time for Each Method:\")\n",
    "print(best_time_df)\n",
    "\n",
    "print(\"\\nOverall Best Evaluation:\")\n",
    "print(best_overall_evaluation)\n"
   ]
  },
  {
   "cell_type": "code",
   "execution_count": 3,
   "metadata": {},
   "outputs": [
    {
     "name": "stdout",
     "output_type": "stream",
     "text": [
      "Best Parameters for Each Method:\n",
      "                                     Method  Test Size  \\\n",
      "0         No Cross Validation (Grid Search)       0.20   \n",
      "3         No Cross Validation (Grid Search)       0.25   \n",
      "6         No Cross Validation (Grid Search)       0.30   \n",
      "9         No Cross Validation (Grid Search)       0.35   \n",
      "12      No Cross Validation (Random Search)       0.20   \n",
      "15      No Cross Validation (Random Search)       0.25   \n",
      "18      No Cross Validation (Random Search)       0.30   \n",
      "21      No Cross Validation (Random Search)       0.35   \n",
      "1     Sklearn cross_val_score (Grid Search)       0.20   \n",
      "4     Sklearn cross_val_score (Grid Search)       0.25   \n",
      "7     Sklearn cross_val_score (Grid Search)       0.30   \n",
      "10    Sklearn cross_val_score (Grid Search)       0.35   \n",
      "13  Sklearn cross_val_score (Random Search)       0.20   \n",
      "16  Sklearn cross_val_score (Random Search)       0.25   \n",
      "19  Sklearn cross_val_score (Random Search)       0.30   \n",
      "22  Sklearn cross_val_score (Random Search)       0.35   \n",
      "2                      xgb.cv (Grid Search)       0.20   \n",
      "5                      xgb.cv (Grid Search)       0.25   \n",
      "8                      xgb.cv (Grid Search)       0.30   \n",
      "11                     xgb.cv (Grid Search)       0.35   \n",
      "14                   xgb.cv (Random Search)       0.20   \n",
      "17                   xgb.cv (Random Search)       0.25   \n",
      "20                   xgb.cv (Random Search)       0.30   \n",
      "23                   xgb.cv (Random Search)       0.35   \n",
      "\n",
      "                                          Best Params  \n",
      "0   {'colsample_bytree': 0.7, 'learning_rate': 0.1...  \n",
      "3   {'colsample_bytree': 0.8, 'learning_rate': 0.1...  \n",
      "6   {'colsample_bytree': 0.8, 'learning_rate': 0.1...  \n",
      "9   {'colsample_bytree': 0.9, 'learning_rate': 0.1...  \n",
      "12  {'subsample': 0.8, 'min_child_weight': 4, 'max...  \n",
      "15  {'subsample': 0.6, 'min_child_weight': 2, 'max...  \n",
      "18  {'subsample': 0.8, 'min_child_weight': 2, 'max...  \n",
      "21  {'subsample': 0.8, 'min_child_weight': 2, 'max...  \n",
      "1   {'colsample_bytree': 0.7, 'learning_rate': 0.1...  \n",
      "4   {'colsample_bytree': 0.8, 'learning_rate': 0.1...  \n",
      "7   {'colsample_bytree': 0.8, 'learning_rate': 0.1...  \n",
      "10  {'colsample_bytree': 0.9, 'learning_rate': 0.1...  \n",
      "13  {'subsample': 0.8, 'min_child_weight': 4, 'max...  \n",
      "16  {'subsample': 0.6, 'min_child_weight': 2, 'max...  \n",
      "19  {'subsample': 0.8, 'min_child_weight': 2, 'max...  \n",
      "22  {'subsample': 0.8, 'min_child_weight': 2, 'max...  \n",
      "2   {'colsample_bytree': 0.7, 'learning_rate': 0.1...  \n",
      "5   {'colsample_bytree': 0.8, 'learning_rate': 0.1...  \n",
      "8   {'colsample_bytree': 0.8, 'learning_rate': 0.1...  \n",
      "11  {'colsample_bytree': 0.9, 'learning_rate': 0.1...  \n",
      "14  {'subsample': 0.8, 'min_child_weight': 4, 'max...  \n",
      "17  {'subsample': 0.6, 'min_child_weight': 2, 'max...  \n",
      "20  {'subsample': 0.8, 'min_child_weight': 2, 'max...  \n",
      "23  {'subsample': 0.8, 'min_child_weight': 2, 'max...  \n"
     ]
    }
   ],
   "source": [
    "# Display the DataFrames\n",
    "print(\"Best Parameters for Each Method:\")\n",
    "print(best_params_df)\n"
   ]
  },
  {
   "cell_type": "code",
   "execution_count": 4,
   "metadata": {},
   "outputs": [
    {
     "name": "stdout",
     "output_type": "stream",
     "text": [
      "\n",
      "Best Test Size for Each Method:\n",
      "                                     Method  Test Size\n",
      "0         No Cross Validation (Grid Search)       0.20\n",
      "3         No Cross Validation (Grid Search)       0.25\n",
      "6         No Cross Validation (Grid Search)       0.30\n",
      "9         No Cross Validation (Grid Search)       0.35\n",
      "12      No Cross Validation (Random Search)       0.20\n",
      "15      No Cross Validation (Random Search)       0.25\n",
      "18      No Cross Validation (Random Search)       0.30\n",
      "21      No Cross Validation (Random Search)       0.35\n",
      "1     Sklearn cross_val_score (Grid Search)       0.20\n",
      "4     Sklearn cross_val_score (Grid Search)       0.25\n",
      "7     Sklearn cross_val_score (Grid Search)       0.30\n",
      "10    Sklearn cross_val_score (Grid Search)       0.35\n",
      "13  Sklearn cross_val_score (Random Search)       0.20\n",
      "16  Sklearn cross_val_score (Random Search)       0.25\n",
      "19  Sklearn cross_val_score (Random Search)       0.30\n",
      "22  Sklearn cross_val_score (Random Search)       0.35\n",
      "2                      xgb.cv (Grid Search)       0.20\n",
      "5                      xgb.cv (Grid Search)       0.25\n",
      "8                      xgb.cv (Grid Search)       0.30\n",
      "11                     xgb.cv (Grid Search)       0.35\n",
      "14                   xgb.cv (Random Search)       0.20\n",
      "17                   xgb.cv (Random Search)       0.25\n",
      "20                   xgb.cv (Random Search)       0.30\n",
      "23                   xgb.cv (Random Search)       0.35\n"
     ]
    }
   ],
   "source": [
    "\n",
    "print(\"\\nBest Test Size for Each Method:\")\n",
    "print(best_test_size_df)\n"
   ]
  },
  {
   "cell_type": "code",
   "execution_count": 5,
   "metadata": {},
   "outputs": [
    {
     "name": "stdout",
     "output_type": "stream",
     "text": [
      "\n",
      "Best Evaluation for Each Method:\n",
      "                                     Method  Test Size       MAE        MSE  \\\n",
      "0         No Cross Validation (Grid Search)       0.20  1.729272   6.241339   \n",
      "3         No Cross Validation (Grid Search)       0.25  1.768956   6.443857   \n",
      "6         No Cross Validation (Grid Search)       0.30  1.651055   6.121840   \n",
      "9         No Cross Validation (Grid Search)       0.35  1.764140   6.611430   \n",
      "12      No Cross Validation (Random Search)       0.20  1.650670   6.091417   \n",
      "15      No Cross Validation (Random Search)       0.25  1.742158   6.159491   \n",
      "18      No Cross Validation (Random Search)       0.30  1.699448   6.260887   \n",
      "21      No Cross Validation (Random Search)       0.35  1.727328   6.511511   \n",
      "1     Sklearn cross_val_score (Grid Search)       0.20  2.526089  11.668271   \n",
      "4     Sklearn cross_val_score (Grid Search)       0.25  2.470158  11.365345   \n",
      "7     Sklearn cross_val_score (Grid Search)       0.30  2.542311  11.813453   \n",
      "10    Sklearn cross_val_score (Grid Search)       0.35  2.547537  12.010073   \n",
      "13  Sklearn cross_val_score (Random Search)       0.20  2.604339  12.022632   \n",
      "16  Sklearn cross_val_score (Random Search)       0.25  2.615611  12.082382   \n",
      "19  Sklearn cross_val_score (Random Search)       0.30  2.556400  11.929338   \n",
      "22  Sklearn cross_val_score (Random Search)       0.35  2.556400  11.929338   \n",
      "2                      xgb.cv (Grid Search)       0.20  1.711477   6.024727   \n",
      "5                      xgb.cv (Grid Search)       0.25  1.730558   6.131042   \n",
      "8                      xgb.cv (Grid Search)       0.30  1.726848   6.166141   \n",
      "11                     xgb.cv (Grid Search)       0.35  1.758433   6.308204   \n",
      "14                   xgb.cv (Random Search)       0.20  1.675666   5.880531   \n",
      "17                   xgb.cv (Random Search)       0.25  1.732441   6.160994   \n",
      "20                   xgb.cv (Random Search)       0.30  1.697374   6.004954   \n",
      "23                   xgb.cv (Random Search)       0.35  1.697374   6.004954   \n",
      "\n",
      "        RMSE        R2  \n",
      "0   2.498267  0.654950  \n",
      "3   2.538475  0.631834  \n",
      "6   2.474235  0.633913  \n",
      "9   2.571270  0.591639  \n",
      "12  2.468080  0.663238  \n",
      "15  2.481832  0.648081  \n",
      "18  2.502176  0.625598  \n",
      "21  2.551766  0.597811  \n",
      "1   3.389777  0.309793  \n",
      "4   3.339848  0.332870  \n",
      "7   3.411802  0.302283  \n",
      "10  3.432225  0.296354  \n",
      "13  3.432357  0.295695  \n",
      "16  3.443880  0.288653  \n",
      "19  3.419392  0.300164  \n",
      "22  3.419392  0.300164  \n",
      "2   2.454532  0.655214  \n",
      "5   2.476094  0.649129  \n",
      "8   2.483172  0.647121  \n",
      "11  2.511614  0.638991  \n",
      "14  2.424981  0.663466  \n",
      "17  2.482135  0.647415  \n",
      "20  2.450501  0.656345  \n",
      "23  2.450501  0.656345  \n"
     ]
    }
   ],
   "source": [
    "\n",
    "print(\"\\nBest Evaluation for Each Method:\")\n",
    "print(best_evaluation_df)\n"
   ]
  },
  {
   "cell_type": "code",
   "execution_count": 8,
   "metadata": {},
   "outputs": [
    {
     "name": "stdout",
     "output_type": "stream",
     "text": [
      "\n",
      "Overall Best Evaluation:\n"
     ]
    },
    {
     "data": {
      "text/plain": [
       "Test Size                                                     0.2\n",
       "Method                                     xgb.cv (Random Search)\n",
       "Best Params     {'subsample': 0.8, 'min_child_weight': 4, 'max...\n",
       "Start Time                                    2024-06-02 22:10:53\n",
       "End Time                                      2024-06-02 22:12:47\n",
       "Duration (s)                                           114.730431\n",
       "MAE                                                      1.675666\n",
       "MSE                                                      5.880531\n",
       "RMSE                                                     2.424981\n",
       "R2                                                       0.663466\n",
       "Name: 14, dtype: object"
      ]
     },
     "execution_count": 8,
     "metadata": {},
     "output_type": "execute_result"
    }
   ],
   "source": [
    "\n",
    "print(\"\\nOverall Best Evaluation:\")\n",
    "best_overall_evaluation\n"
   ]
  }
 ],
 "metadata": {
  "kernelspec": {
   "display_name": "Python 3",
   "language": "python",
   "name": "python3"
  },
  "language_info": {
   "codemirror_mode": {
    "name": "ipython",
    "version": 3
   },
   "file_extension": ".py",
   "mimetype": "text/x-python",
   "name": "python",
   "nbconvert_exporter": "python",
   "pygments_lexer": "ipython3",
   "version": "3.12.3"
  }
 },
 "nbformat": 4,
 "nbformat_minor": 2
}
