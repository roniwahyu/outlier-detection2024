{
  "cells": [
    {
      "cell_type": "markdown",
      "metadata": {
        "id": "eipLgUnEqOa2"
      },
      "source": [
        "# Tahu lah apa ini?"
      ]
    },
    {
      "cell_type": "code",
      "execution_count": null,
      "metadata": {
        "colab": {
          "base_uri": "https://localhost:8080/"
        },
        "id": "9SiSusLeqOa_",
        "outputId": "0a7ca4c9-4efd-4642-aea0-27c99ae7a3c3"
      },
      "outputs": [],
      "source": [
        "# from google.colab import drive\n",
        "# drive.mount('/content/drive')\n",
        "# Path to google drive folder\n",
        "# %cd /content/drive/MyDrive/Colab Notebooks/Disertasi-Ahmad-Rofiqul/002. Laporan-eksperimen\n",
        "# %cd /content/drive/MyDrive/Colab Notebooks/Disertasi-Ahmad-Rofiqul/002.Experiment_SWI_16052024/01.Dataset-Rofiqul/Ujicoba3-29052024"
      ]
    },
    {
      "cell_type": "code",
      "execution_count": null,
      "metadata": {
        "id": "_OZLIPhbqObD"
      },
      "outputs": [],
      "source": [
        "import numpy as np\n",
        "import pandas as pd\n",
        "import seaborn as sns\n",
        "import matplotlib.pyplot as plt\n",
        "\n",
        "from sklearn.model_selection import train_test_split\n",
        "from sklearn.ensemble import IsolationForest\n",
        "from sklearn.cluster import DBSCAN, OPTICS\n",
        "from sklearn.preprocessing import StandardScaler\n",
        "from sklearn.impute import SimpleImputer\n",
        "from sklearn.metrics import classification_report\n",
        "from xgboost import XGBRegressor\n",
        "\n",
        "from sklearn.metrics import r2_score, mean_absolute_error, mean_squared_error\n",
        "from sklearn.svm import OneClassSVM"
      ]
    },
    {
      "cell_type": "code",
      "execution_count": null,
      "metadata": {
        "id": "GZQg8vapqObF"
      },
      "outputs": [],
      "source": [
        "# Load the dataset\n",
        "# file_path = '01.Dataset-Rofiqul/agriculture_dataset.csv'\n",
        "# file_path = '01.Dataset-Rofiqul/Ujicoba3-29052024/agriculture_dataset.csv'\n",
        "file_path = 'dataset/agriculture_dataset.csv'\n",
        "data = pd.read_csv(file_path)\n",
        "\n",
        "# Display the first few rows of the dataset for review\n",
        "# data.head(),data.info(),data.describe()"
      ]
    },
    {
      "cell_type": "code",
      "execution_count": null,
      "metadata": {
        "colab": {
          "base_uri": "https://localhost:8080/",
          "height": 570
        },
        "id": "ny57_tziqObH",
        "outputId": "c4958f08-f0ae-4be4-b251-81413c285ea7"
      },
      "outputs": [],
      "source": [
        "\n",
        "\n",
        "# Assuming your data is already loaded into a DataFrame called 'data'\n",
        "\n",
        "# Generate a box plot for N2O with quartile divisions\n",
        "plt.figure(figsize=(10, 6))\n",
        "\n",
        "# Boxplot for N2O with quartiles\n",
        "sns.boxplot(y='N2O', data=data, showmeans=True)\n",
        "plt.title('Boxplot of N2O Emissions with Quartiles')\n",
        "plt.ylabel('N2O Emissions')\n",
        "plt.xlabel('All Data')\n",
        "\n",
        "# Calculate quartiles and IQR\n",
        "q1 = data['N2O'].quantile(0.25)\n",
        "q2 = data['N2O'].median()\n",
        "q3 = data['N2O'].quantile(0.75)\n",
        "iqr = q3 - q1\n",
        "\n",
        "# Adding horizontal lines for quartiles and IQR\n",
        "plt.axhline(q1, color='r', linestyle='--', label=f'1st Quartile (Q1): {q1:.2f}')\n",
        "plt.axhline(q2, color='g', linestyle='-', label=f'Median (Q2): {q2:.2f}')\n",
        "plt.axhline(q3, color='b', linestyle='--', label=f'3rd Quartile (Q3): {q3:.2f}')\n",
        "plt.axhline(q1 - 1.5 * iqr, color='orange', linestyle='-.', label=f'Lower Bound (Q1 - 1.5*IQR): {q1 - 1.5 * iqr:.2f}')\n",
        "plt.axhline(q3 + 1.5 * iqr, color='purple', linestyle='-.', label=f'Upper Bound (Q3 + 1.5*IQR): {q3 + 1.5 * iqr:.2f}')\n",
        "\n",
        "plt.legend()\n",
        "plt.show()"
      ]
    },
    {
      "cell_type": "code",
      "execution_count": null,
      "metadata": {
        "id": "2RSR5bkFqObL",
        "outputId": "9992124f-68d4-44d8-e8e0-8560b87b9d48"
      },
      "outputs": [],
      "source": [
        "df=data\n",
        "# Define the numerical columns\n",
        "numerical_cols = ['N2O', 'N_rate', 'PP2', 'PP7', 'AirT', 'WFPS25cm', 'NH4', 'NO3', 'Clay', 'Sand', 'SOM']\n",
        "\n",
        "# 1. Identify outliers using the Z-score method\n",
        "z_scores = {}\n",
        "for col in numerical_cols:\n",
        "    z = np.abs((df[col] - df[col].mean()) / df[col].std())\n",
        "    z_scores[col] = z\n",
        "\n",
        "# Define the threshold for outliers (e.g., 3 standard deviations)\n",
        "threshold = 3\n",
        "\n",
        "# Create a boolean mask to identify outliers\n",
        "outlier_mask = pd.DataFrame({col: z_scores[col] > threshold for col in numerical_cols})\n",
        "\n",
        "# Print the number of outliers for each column\n",
        "print(\"Number of outliers per column:\")\n",
        "print(outlier_mask.sum())\n",
        "\n",
        "# 2. Visualize the outliers using boxplots\n",
        "fig, axes = plt.subplots(4, 3, figsize=(18, 12))\n",
        "axes = axes.flatten()\n",
        "\n",
        "for i, col in enumerate(numerical_cols):\n",
        "    sns.boxplot(x=df[col], ax=axes[i])\n",
        "    axes[i].set_title(f\"{col} Outliers\")\n",
        "\n",
        "plt.tight_layout()\n",
        "plt.show()\n",
        "\n",
        "# 3. Identify potential multivariate outliers using Mahalanobis distance\n",
        "from scipy.spatial.distance import mahalanobis\n",
        "from scipy.stats import chi2\n",
        "\n",
        "X = df[numerical_cols].values\n",
        "cov_mat = np.cov(X.T)\n",
        "inv_cov_mat = np.linalg.inv(cov_mat)\n",
        "\n",
        "# Calculate the Mahalanobis distance for each data point\n",
        "mahal_dists = [mahalanobis(x, X.mean(axis=0), inv_cov_mat) for x in X]\n",
        "\n",
        "# Determine the outlier threshold based on the chi-square distribution\n",
        "p = len(numerical_cols)\n",
        "threshold = chi2.isf(0.01, df=p)\n",
        "\n",
        "# Create a boolean mask to identify multivariate outliers\n",
        "multivariate_outlier_mask = np.array(mahal_dists) > threshold\n",
        "\n",
        "# Print the number of multivariate outliers\n",
        "print(f\"Number of multivariate outliers: {sum(multivariate_outlier_mask)}\")"
      ]
    },
    {
      "cell_type": "code",
      "execution_count": null,
      "metadata": {
        "id": "BSAdne--qObO",
        "outputId": "de07970c-c683-40b6-9349-a38c4373bc15"
      },
      "outputs": [],
      "source": [
        "# Define the numerical columns\n",
        "numerical_cols = ['N2O', 'N_rate', 'PP2', 'PP7', 'AirT', 'WFPS25cm', 'NH4', 'NO3', 'Clay', 'Sand', 'SOM']\n",
        "\n",
        "# Detect outliers using the IQR method\n",
        "outlier_mask = pd.DataFrame()\n",
        "for col in numerical_cols:\n",
        "    q1 = df[col].quantile(0.25)\n",
        "    q3 = df[col].quantile(0.75)\n",
        "    iqr = q3 - q1\n",
        "    lower_bound = q1 - 1.5 * iqr\n",
        "    upper_bound = q3 + 1.5 * iqr\n",
        "    outliers = (df[col] < lower_bound) | (df[col] > upper_bound)\n",
        "    outlier_mask[col] = outliers\n",
        "\n",
        "# Print the number of outliers for each column\n",
        "print(\"Number of outliers per column:\")\n",
        "print(outlier_mask.sum())\n",
        "\n",
        "# Visualize the outliers using boxplots\n",
        "fig, axes = plt.subplots(4, 3, figsize=(18, 12))\n",
        "axes = axes.flatten()\n",
        "\n",
        "for i, col in enumerate(numerical_cols):\n",
        "    sns.boxplot(x=df[col], ax=axes[i])\n",
        "    axes[i].set_title(f\"{col} Outliers\")\n",
        "\n",
        "plt.tight_layout()\n",
        "plt.show()"
      ]
    },
    {
      "cell_type": "markdown",
      "metadata": {
        "id": "9THOg6VFqObT"
      },
      "source": [
        "## Malahobis Distance Outliers Detection"
      ]
    },
    {
      "cell_type": "code",
      "execution_count": null,
      "metadata": {
        "id": "wgvP7a0WqObU",
        "outputId": "7dc069ca-61b5-4586-faad-ed8767786f24"
      },
      "outputs": [],
      "source": [
        "# Define the numerical columns\n",
        "numerical_cols = ['N2O', 'N_rate'] #, 'PP2', 'PP7', 'AirT', 'WFPS25cm', 'NH4', 'NO3', 'Clay', 'Sand', 'SOM']\n",
        "# numerical_cols = ['N2O']\n",
        "\n",
        "# Detect outliers using the Mahalanobis distance\n",
        "X = df[numerical_cols].values\n",
        "cov_mat = np.cov(X.T)\n",
        "inv_cov_mat = np.linalg.inv(cov_mat)\n",
        "\n",
        "# Calculate the Mahalanobis distance for each data point\n",
        "mahal_dists = [mahalanobis(x, X.mean(axis=0), inv_cov_mat) for x in X]\n",
        "\n",
        "# Determine the outlier threshold based on the chi-square distribution\n",
        "p = len(numerical_cols)\n",
        "threshold = chi2.isf(0.01, df=p)\n",
        "\n",
        "# Create a boolean mask to identify outliers\n",
        "outlier_mask = np.array(mahal_dists) > threshold\n",
        "\n",
        "# Print the number of outliers\n",
        "print(f\"Number of outliers: {sum(outlier_mask)}\")\n",
        "\n",
        "# Visualize the outliers using a scatter plot\n",
        "plt.figure(figsize=(10, 8))\n",
        "plt.scatter(range(len(mahal_dists)), sorted(mahal_dists))\n",
        "plt.axhline(y=threshold, color='r', linestyle='--')\n",
        "plt.title('Mahalanobis Distance Plot')\n",
        "plt.xlabel('Data Point Index')\n",
        "plt.ylabel('Mahalanobis Distance')\n",
        "plt.show()"
      ]
    },
    {
      "cell_type": "markdown",
      "metadata": {
        "id": "RKt7CzJDqObY"
      },
      "source": [
        "## Isolation Forest"
      ]
    },
    {
      "cell_type": "code",
      "execution_count": null,
      "metadata": {
        "colab": {
          "base_uri": "https://localhost:8080/",
          "height": 755
        },
        "id": "DZdoWP9FqObb",
        "outputId": "e5d4b4f2-b09c-4b47-e68e-91fd7c74b24a"
      },
      "outputs": [],
      "source": [
        "df=data\n",
        "# Define the numerical columns\n",
        "numerical_cols = ['N2O'] # 'N_rate', 'PP2', 'PP7', 'AirT', 'WFPS25cm', 'NH4', 'NO3', 'Clay', 'Sand', 'SOM']\n",
        "\n",
        "# Handle missing values using the mean imputer\n",
        "imputer = SimpleImputer(strategy='mean')\n",
        "X = imputer.fit_transform(df[numerical_cols])\n",
        "\n",
        "# Fit the Isolation Forest model\n",
        "iso_forest = IsolationForest(contamination=0.01, random_state=42)\n",
        "outlier_scores = iso_forest.fit_predict(X)\n",
        "\n",
        "# Create a boolean mask to identify outliers\n",
        "outlier_mask = outlier_scores == -1\n",
        "\n",
        "# Print the number of outliers\n",
        "print(f\"Number of outliers: {sum(outlier_mask)}\")\n",
        "\n",
        "# Visualize the outliers using a scatter plot\n",
        "import matplotlib.pyplot as plt\n",
        "plt.figure(figsize=(10, 8))\n",
        "plt.scatter(range(len(outlier_scores)), sorted(outlier_scores), c=['g' if score == 1 else 'r' for score in outlier_scores])\n",
        "plt.axhline(y=-1, color='r', linestyle='--')\n",
        "plt.title('Isolation Forest Outlier Scores')\n",
        "plt.xlabel('Data Point Index')\n",
        "plt.ylabel('Outlier Score')\n",
        "plt.show()"
      ]
    },
    {
      "cell_type": "code",
      "execution_count": null,
      "metadata": {
        "id": "9VM3ZNH8qObd",
        "outputId": "af5a13dc-9392-459e-cad3-40d1e2decf60"
      },
      "outputs": [],
      "source": [
        "# Create a boolean mask to identify outliers\n",
        "outlier_mask = outlier_scores == -1\n",
        "\n",
        "# Visualize the outliers using a scatter plot matrix\n",
        "plt.figure(figsize=(12, 12))\n",
        "num_cols = len(numerical_cols)\n",
        "for i in range(num_cols):\n",
        "    for j in range(num_cols):\n",
        "        if i == j:\n",
        "            # Plot the histogram for the diagonal subplots\n",
        "            plt.subplot(num_cols, num_cols, i * num_cols + j + 1)\n",
        "            df[numerical_cols[i]].plot(kind='hist', bins=20, title=numerical_cols[i])\n",
        "        else:\n",
        "            # Plot the scatter plot for the off-diagonal subplots\n",
        "            plt.subplot(num_cols, num_cols, i * num_cols + j + 1)\n",
        "            plt.scatter(df[numerical_cols[j]], df[numerical_cols[i]], c=['g' if outlier_scores[k] == 1 else 'r' for k in range(len(outlier_scores))], s=10, alpha=0.5)\n",
        "            plt.xlabel(numerical_cols[j])\n",
        "            plt.ylabel(numerical_cols[i])\n",
        "\n",
        "plt.tight_layout()\n",
        "plt.show()\n"
      ]
    },
    {
      "cell_type": "code",
      "execution_count": null,
      "metadata": {
        "id": "izpueG7LqObf",
        "outputId": "733d5a15-276c-4f3b-b267-25ad6f6181fb"
      },
      "outputs": [],
      "source": [
        "# Visualize the outliers using a scatter plot\n",
        "plt.figure(figsize=(3, 2))\n",
        "for i in range(len(numerical_cols)):\n",
        "    for j in range(i+1, len(numerical_cols)):\n",
        "        plt.subplot(3, 4, i * (len(numerical_cols)-1) + j - i + 1)\n",
        "        plt.scatter(df[numerical_cols[j]], df[numerical_cols[i]], c=['g' if score == 1 else 'r' for score in outlier_scores], s=10, alpha=0.5)\n",
        "        plt.xlabel(numerical_cols[j])\n",
        "        plt.ylabel(numerical_cols[i])\n",
        "        plt.title(f\"{numerical_cols[i]} vs {numerical_cols[j]}\")\n",
        "\n",
        "plt.tight_layout()\n",
        "plt.show()"
      ]
    },
    {
      "cell_type": "markdown",
      "metadata": {
        "id": "ITaqRHKMqObh"
      },
      "source": [
        "## Z-score"
      ]
    },
    {
      "cell_type": "code",
      "execution_count": null,
      "metadata": {
        "id": "yjY7iA5dqObi",
        "outputId": "7ce34ccc-3291-462a-c427-759216c839aa"
      },
      "outputs": [],
      "source": [
        "# Assuming you have a DataFrame called df containing the tabular data\n",
        "n2o_column = df['N2O']\n",
        "\n",
        "# Calculate the z-scores\n",
        "z_scores = (n2o_column - n2o_column.mean()) / n2o_column.std()\n",
        "\n",
        "# Define the z-score threshold for outliers\n",
        "threshold_z_score = 3\n",
        "\n",
        "# Detect outliers\n",
        "outliers_z_score = n2o_column[abs(z_scores) > threshold_z_score]\n",
        "\n",
        "# Create a scatter plot of the N2O column\n",
        "sns.scatterplot(x=n2o_column.index, y=n2o_column, label='Data Points')\n",
        "\n",
        "# Highlight the outliers using red color\n",
        "sns.scatterplot(x=outliers_z_score.index, y=outliers_z_score, color='red', label='Outliers')\n",
        "\n",
        "# Set labels and title\n",
        "plt.xlabel('Index')\n",
        "plt.ylabel('N2O Values')\n",
        "plt.title('Scatter Plot of N2O column with Outliers (z-score)')\n",
        "\n",
        "# Show the plot\n",
        "plt.legend()\n",
        "plt.show()"
      ]
    },
    {
      "cell_type": "markdown",
      "metadata": {
        "id": "QWwFn5sbqObj"
      },
      "source": [
        "## Tuckey Fences"
      ]
    },
    {
      "cell_type": "code",
      "execution_count": null,
      "metadata": {
        "id": "QUDQdzJ-qObk",
        "outputId": "265c1612-8417-4489-aba3-b287d65d3e4f"
      },
      "outputs": [],
      "source": [
        "# Assuming you have a DataFrame called df containing the tabular data\n",
        "n2o_column = df['N2O']\n",
        "\n",
        "# Calculate the IQR\n",
        "Q1 = n2o_column.quantile(0.25)\n",
        "Q3 = n2o_column.quantile(0.75)\n",
        "IQR = Q3 - Q1\n",
        "\n",
        "# Define the lower and upper fences\n",
        "lower_fence = Q1 - 1.5 * IQR\n",
        "upper_fence = Q3 + 1.5 * IQR\n",
        "\n",
        "# Detect outliers\n",
        "outliers_tukey = n2o_column[(n2o_column < lower_fence) | (n2o_column > upper_fence)]\n",
        "\n",
        "# Create a scatter plot of the N2O column\n",
        "sns.scatterplot(x=n2o_column.index, y=n2o_column, label='Data Points')\n",
        "\n",
        "# Highlight the outliers using red color\n",
        "sns.scatterplot(x=outliers_tukey.index, y=outliers_tukey, color='red', label='Outliers')\n",
        "\n",
        "# Highlight the data points within the fences using blue color\n",
        "inliers_tukey = n2o_column[(n2o_column >= lower_fence) & (n2o_column <= upper_fence)]\n",
        "sns.scatterplot(x=inliers_tukey.index, y=inliers_tukey, color='blue', label='Inliers')\n",
        "\n",
        "# Set labels and title\n",
        "plt.xlabel('Index')\n",
        "plt.ylabel('N2O Values')\n",
        "plt.title('Scatter Plot of N2O column with Outliers (Tukey\\'s fences)')\n",
        "\n",
        "# Show the plot\n",
        "plt.legend()\n",
        "plt.show()"
      ]
    },
    {
      "cell_type": "markdown",
      "metadata": {
        "id": "VHeOQAa2qObl"
      },
      "source": [
        "## LOF"
      ]
    },
    {
      "cell_type": "code",
      "execution_count": null,
      "metadata": {
        "id": "z3oX_g20qObm",
        "outputId": "09c80b97-331f-4d3d-efad-57f14bb67a6b"
      },
      "outputs": [],
      "source": [
        "from sklearn.neighbors import LocalOutlierFactor\n",
        "\n",
        "# Assuming you have a DataFrame called df containing the tabular data\n",
        "# n2o_column = df['N2O']\n",
        "\n",
        "# Reshape the data into a 2D array for LOF input\n",
        "X = np.array(n2o_column).reshape(-1, 1)\n",
        "\n",
        "# Create an instance of the LOF model\n",
        "lof = LocalOutlierFactor(n_neighbors=20, contamination=0.1)  # Adjust parameters as needed\n",
        "\n",
        "# Fit the LOF model and calculate LOF scores\n",
        "lof_scores = lof.fit_predict(X)\n",
        "\n",
        "# Identify outliers based on negative LOF scores\n",
        "outliers_lof = n2o_column[lof_scores == -1]\n",
        "\n",
        "# Create a scatter plot of the N2O column\n",
        "sns.scatterplot(x=n2o_column.index, y=n2o_column, label='Data Points')\n",
        "\n",
        "# Highlight the outliers using red color\n",
        "sns.scatterplot(x=outliers_lof.index, y=outliers_lof, color='red', label='Outliers')\n",
        "\n",
        "# Set labels and title\n",
        "plt.xlabel('Index')\n",
        "plt.ylabel('N2O Values')\n",
        "plt.title('Scatter Plot of N2O column with Outliers (LOF)')\n",
        "\n",
        "# Show the plot\n",
        "plt.legend()\n",
        "plt.show()"
      ]
    },
    {
      "cell_type": "code",
      "execution_count": null,
      "metadata": {
        "colab": {
          "base_uri": "https://localhost:8080/"
        },
        "id": "NRFm695IsZDe",
        "outputId": "97d2da83-71eb-42d3-d19e-c568a14cf225"
      },
      "outputs": [],
      "source": [
        "# !pip install pyod"
      ]
    },
    {
      "cell_type": "code",
      "execution_count": null,
      "metadata": {
        "id": "Fkcg_dHIqObn"
      },
      "outputs": [],
      "source": [
        "from scipy.stats import iqr\n",
        "from scipy.spatial.distance import mahalanobis\n",
        "from pyod.models.hbos import HBOS\n",
        "from sklearn.cluster import DBSCAN, OPTICS\n"
      ]
    },
    {
      "cell_type": "code",
      "execution_count": null,
      "metadata": {
        "colab": {
          "base_uri": "https://localhost:8080/",
          "height": 444
        },
        "id": "nYm6AFkPqObp",
        "outputId": "a4a3fc40-e5a5-47cc-b447-3f9e04c64f25"
      },
      "outputs": [],
      "source": [
        "df"
      ]
    },
    {
      "cell_type": "code",
      "execution_count": null,
      "metadata": {
        "colab": {
          "base_uri": "https://localhost:8080/",
          "height": 1000
        },
        "id": "AYtpY9gDqObq",
        "outputId": "2b18ec2d-063d-4186-85a1-6a738967c9d5"
      },
      "outputs": [],
      "source": [
        "# Extract the N2O column\n",
        "n2o_values = df['N2O']\n",
        "\n",
        "# Apply DBSCAN clustering to detect outliers\n",
        "dbscan = DBSCAN(eps=0.5, min_samples=5)\n",
        "dbscan.fit(n2o_values.values.reshape(-1, 1))\n",
        "\n",
        "# Get the outlier indices from DBSCAN\n",
        "dbscan_outliers = np.where(dbscan.labels_ == -1)[0]\n",
        "\n",
        "# Apply OPTICS clustering to detect outliers\n",
        "optics = OPTICS(eps=0.5, min_samples=5)\n",
        "optics.fit(n2o_values.values.reshape(-1, 1))\n",
        "\n",
        "# Get the outlier indices from OPTICS\n",
        "optics_outliers = np.where(optics.labels_ == -1)[0]\n",
        "\n",
        "# Create pandas DataFrame tables for DBSCAN and OPTICS outlier results\n",
        "dbscan_table = pd.DataFrame({'Data Point': df.index,\n",
        "                             'N2O Value': n2o_values,\n",
        "                             'DBSCAN Cluster Label': dbscan.labels_})\n",
        "optics_table = pd.DataFrame({'Data Point': df.index,\n",
        "                             'N2O Value': n2o_values,\n",
        "                             'OPTICS Reachability Distance': optics.reachability_})\n",
        "\n",
        "# Visualize DBSCAN outlier detection\n",
        "plt.scatter(dbscan_table['Data Point'], dbscan_table['N2O Value'], c=dbscan_table['DBSCAN Cluster Label'], cmap='viridis')\n",
        "plt.scatter(dbscan_outliers, dbscan_table.loc[dbscan_outliers, 'N2O Value'], c='red', label='DBSCAN Outliers')\n",
        "plt.xlabel('Data Points')\n",
        "plt.ylabel('N2O Values')\n",
        "plt.title('N2O Outliers Detected by DBSCAN')\n",
        "plt.legend()\n",
        "plt.show()\n",
        "\n",
        "# Visualize OPTICS outlier detection\n",
        "plt.scatter(optics_table['Data Point'], optics_table['N2O Value'], c=optics_table['OPTICS Reachability Distance'], cmap='viridis')\n",
        "plt.scatter(optics_outliers, optics_table.loc[optics_outliers, 'N2O Value'], c='red', label='OPTICS Outliers')\n",
        "plt.xlabel('Data Points')\n",
        "plt.ylabel('N2O Values')\n",
        "plt.title('N2O Outliers Detected by OPTICS')\n",
        "plt.legend()\n",
        "plt.show()\n",
        "\n",
        "# Print the DBSCAN outlier table\n",
        "print(\"DBSCAN Outlier Table:\")\n",
        "print(dbscan_table[dbscan_table['DBSCAN Cluster Label'] == -1])\n",
        "\n",
        "# Print the OPTICS outlier table\n",
        "print(\"\\nOPTICS Outlier Table:\")\n",
        "print(optics_table[optics_table['OPTICS Reachability Distance'] == np.inf])"
      ]
    },
    {
      "cell_type": "code",
      "execution_count": null,
      "metadata": {
        "id": "VbmTfSmhqObr",
        "outputId": "d78116ca-bf86-49dd-9ed8-ade3904cbed1"
      },
      "outputs": [],
      "source": [
        "dbscan_table.head(), optics_table.head()"
      ]
    },
    {
      "cell_type": "code",
      "execution_count": null,
      "metadata": {
        "id": "P-jK6aSoqObs",
        "outputId": "f839ce74-895e-4863-cae8-6510fc2b02d9"
      },
      "outputs": [],
      "source": [
        "# Extract the N2O column\n",
        "n2o_values = df['N2O']\n",
        "\n",
        "# Apply Local Outlier Factor (LOF) for outlier detection\n",
        "lof = LocalOutlierFactor(n_neighbors=10, contamination=0.05)\n",
        "outlier_scores = lof.fit_predict(n2o_values.values.reshape(-1, 1))\n",
        "\n",
        "# Get the outlier indices from LOF\n",
        "outliers = df[outlier_scores == -1]\n",
        "\n",
        "# Visualize LOF outlier detection\n",
        "plt.scatter(df.index, n2o_values, c=outlier_scores, cmap='viridis')\n",
        "plt.scatter(outliers.index, outliers['N2O'], c='red', label='LOF Outliers')\n",
        "plt.xlabel('Data Points')\n",
        "plt.ylabel('N2O Values')\n",
        "plt.title('N2O Outliers Detected by LOF')\n",
        "plt.legend()\n",
        "plt.show()\n",
        "\n",
        "# Print the LOF outlier table\n",
        "print(\"LOF Outlier Table:\")\n",
        "print(outliers)"
      ]
    },
    {
      "cell_type": "code",
      "execution_count": null,
      "metadata": {
        "colab": {
          "base_uri": "https://localhost:8080/",
          "height": 1000
        },
        "id": "V7AS6rBRqObt",
        "outputId": "a6a2df59-2347-486c-893a-37d33ce0e37e"
      },
      "outputs": [],
      "source": [
        "from pyod.models.cblof import CBLOF\n",
        "# Extract the N2O column\n",
        "n2o_values = df['N2O'].values.reshape(-1, 1)\n",
        "\n",
        "# Apply CBLOF for outlier detection\n",
        "cblof = CBLOF(contamination=0.05, check_estimator=False, random_state=0)\n",
        "outlier_scores = cblof.fit_predict(n2o_values)\n",
        "\n",
        "# Get the outlier indices from CBLOF\n",
        "outliers = df[outlier_scores == 1]\n",
        "\n",
        "# Visualize CBLOF outlier detection\n",
        "plt.scatter(df.index, n2o_values, c=outlier_scores, cmap='viridis')\n",
        "plt.scatter(outliers.index, outliers['N2O'], c='red', label='CBLOF Outliers')\n",
        "plt.xlabel('Data Points')\n",
        "plt.ylabel('N2O Values')\n",
        "plt.title('N2O Outliers Detected by CBLOF')\n",
        "plt.legend()\n",
        "plt.show()\n",
        "\n",
        "# Print the CBLOF outlier table\n",
        "print(\"CBLOF Outlier Table:\")\n",
        "print(outliers)"
      ]
    },
    {
      "cell_type": "code",
      "execution_count": null,
      "metadata": {
        "id": "c1j8Ykj6qObu",
        "outputId": "53504707-a5db-4bed-c8b8-6a9fa8663190"
      },
      "outputs": [],
      "source": [
        "from sklearn.covariance import EllipticEnvelope\n",
        "\n",
        "# Load the dataset\n",
        "# df = pd.read_csv('your_dataset.csv')  # Replace 'your_dataset.csv' with the actual filename\n",
        "\n",
        "# Extract the N2O column\n",
        "n2o_values = df['N2O'].values.reshape(-1, 1)\n",
        "\n",
        "# Apply Robust Covariance Estimation for outlier detection\n",
        "robust_cov = EllipticEnvelope(contamination=0.05)\n",
        "outlier_scores = robust_cov.fit_predict(n2o_values)\n",
        "\n",
        "# Get the outlier indices from the Robust Covariance Estimation\n",
        "outliers = df[outlier_scores == -1]\n",
        "\n",
        "# Visualize the Robust Covariance Estimation outlier detection\n",
        "plt.scatter(df.index, n2o_values, c=outlier_scores, cmap='viridis')\n",
        "plt.scatter(outliers.index, outliers['N2O'], c='red', label='Outliers')\n",
        "plt.xlabel('Data Points')\n",
        "plt.ylabel('N2O Values')\n",
        "plt.title('N2O Outliers Detected by Robust Covariance Estimation')\n",
        "plt.legend()\n",
        "plt.show()\n",
        "\n",
        "# Print the Robust Covariance Estimation outlier table\n",
        "print(\"Robust Covariance Estimation Outlier Table:\")\n",
        "print(outliers)"
      ]
    },
    {
      "cell_type": "code",
      "execution_count": null,
      "metadata": {
        "colab": {
          "base_uri": "https://localhost:8080/",
          "height": 1000
        },
        "id": "HiI0aTS7qObw",
        "outputId": "4d7302fa-72d2-4982-ca63-4d6baa61d146"
      },
      "outputs": [],
      "source": [
        "# import pandas as pd\n",
        "# import matplotlib.pyplot as plt\n",
        "from sklearn.cluster import DBSCAN, OPTICS\n",
        "from sklearn.neighbors import LocalOutlierFactor\n",
        "from pyod.models.cblof import CBLOF\n",
        "from sklearn.covariance import EllipticEnvelope\n",
        "\n",
        "# Load the dataset\n",
        "# df = pd.read_csv('your_dataset.csv')  # Replace 'your_dataset.csv' with the actual filename\n",
        "\n",
        "# Extract the N2O column\n",
        "n2o_values = df['N2O'].values.reshape(-1, 1)\n",
        "\n",
        "# Apply DBSCAN clustering to detect outliers\n",
        "dbscan = DBSCAN(eps=0.5, min_samples=5)\n",
        "dbscan_outliers = dbscan.fit_predict(n2o_values)\n",
        "\n",
        "# Apply OPTICS clustering to detect outliers\n",
        "optics = OPTICS(eps=0.5, min_samples=5)\n",
        "optics_outliers = optics.fit_predict(n2o_values)\n",
        "\n",
        "# Apply Local Outlier Factor (LOF) for outlier detection\n",
        "lof = LocalOutlierFactor(n_neighbors=10, contamination=0.05)\n",
        "lof_outliers = lof.fit_predict(n2o_values)\n",
        "\n",
        "# Apply CBLOF for outlier detection\n",
        "cblof = CBLOF(contamination=0.05, check_estimator=False, random_state=0)\n",
        "cblof_outliers = cblof.fit_predict(n2o_values)\n",
        "\n",
        "# Apply Robust Covariance Estimation for outlier detection\n",
        "robust_cov = EllipticEnvelope(contamination=0.05)\n",
        "robust_cov_outliers = robust_cov.fit_predict(n2o_values)\n",
        "\n",
        "# Visualize outlier detection results\n",
        "plt.figure(figsize=(12, 8))\n",
        "\n",
        "plt.subplot(2, 3, 1)\n",
        "plt.scatter(df.index, n2o_values, c=dbscan_outliers, cmap='viridis')\n",
        "plt.xlabel('Data Points')\n",
        "plt.ylabel('N2O Values')\n",
        "plt.title('DBSCAN Outliers')\n",
        "\n",
        "plt.subplot(2, 3, 2)\n",
        "plt.scatter(df.index, n2o_values, c=optics_outliers, cmap='viridis')\n",
        "plt.xlabel('Data Points')\n",
        "plt.ylabel('N2O Values')\n",
        "plt.title('OPTICS Outliers')\n",
        "\n",
        "plt.subplot(2, 3, 3)\n",
        "plt.scatter(df.index, n2o_values, c=lof_outliers, cmap='viridis')\n",
        "plt.xlabel('Data Points')\n",
        "plt.ylabel('N2O Values')\n",
        "plt.title('LOF Outliers')\n",
        "\n",
        "plt.subplot(2, 3, 4)\n",
        "plt.scatter(df.index, n2o_values, c=cblof_outliers, cmap='viridis')\n",
        "plt.xlabel('Data Points')\n",
        "plt.ylabel('N2O Values')\n",
        "plt.title('CBLOF Outliers')\n",
        "\n",
        "plt.subplot(2, 3, 5)\n",
        "plt.scatter(df.index, n2o_values, c=robust_cov_outliers, cmap='viridis')\n",
        "plt.xlabel('Data Points')\n",
        "plt.ylabel('N2O Values')\n",
        "plt.title('Robust Covariance Estimation Outliers')\n",
        "\n",
        "plt.tight_layout()\n",
        "plt.show()\n",
        "\n",
        "# Print the outlier tables\n",
        "print(\"DBSCAN Outlier Table:\")\n",
        "print(df[dbscan_outliers == -1])\n",
        "\n",
        "print(\"\\nOPTICS Outlier Table:\")\n",
        "print(df[optics_outliers == -1])\n",
        "\n",
        "print(\"\\nLOF Outlier Table:\")\n",
        "print(df[lof_outliers == -1])\n",
        "\n",
        "print(\"\\nCBLOF Outlier Table:\")\n",
        "print(df[cblof_outliers == -1])\n",
        "\n",
        "print(\"\\nRobust Covariance Estimation Outlier Table:\")\n",
        "print(df[robust_cov_outliers == -1])"
      ]
    },
    {
      "cell_type": "code",
      "execution_count": null,
      "metadata": {
        "id": "Nsvjt7k-qObx",
        "outputId": "7886c297-1be5-4cf5-cedc-9213bf62d88c"
      },
      "outputs": [],
      "source": [
        "# import pandas as pd\n",
        "# import matplotlib.pyplot as plt\n",
        "from sklearn.cluster import DBSCAN, OPTICS\n",
        "from sklearn.neighbors import LocalOutlierFactor\n",
        "from pyod.models.cblof import CBLOF\n",
        "from sklearn.covariance import EllipticEnvelope\n",
        "from sklearn.ensemble import IsolationForest\n",
        "from sklearn.svm import OneClassSVM\n",
        "\n",
        "# Load the dataset\n",
        "# df = pd.read_csv('your_dataset.csv')  # Replace 'your_dataset.csv' with the actual filename\n",
        "\n",
        "# Extract the N2O column\n",
        "n2o_values = df['N2O'].values.reshape(-1, 1)\n",
        "\n",
        "# Apply DBSCAN clustering to detect outliers\n",
        "dbscan = DBSCAN(eps=0.5, min_samples=5)\n",
        "dbscan_outliers = dbscan.fit_predict(n2o_values)\n",
        "\n",
        "# Apply OPTICS clustering to detect outliers\n",
        "optics = OPTICS(eps=0.5, min_samples=5)\n",
        "optics_outliers = optics.fit_predict(n2o_values)\n",
        "\n",
        "# Apply Local Outlier Factor (LOF) for outlier detection\n",
        "lof = LocalOutlierFactor(n_neighbors=10, contamination=0.05)\n",
        "lof_outliers = lof.fit_predict(n2o_values)\n",
        "\n",
        "# Apply CBLOF for outlier detection\n",
        "cblof = CBLOF(contamination=0.05, check_estimator=False, random_state=0)\n",
        "cblof_outliers = cblof.fit_predict(n2o_values)\n",
        "\n",
        "# Apply Robust Covariance Estimation for outlier detection\n",
        "robust_cov = EllipticEnvelope(contamination=0.05)\n",
        "robust_cov_outliers = robust_cov.fit_predict(n2o_values)\n",
        "\n",
        "# Apply Isolation Forest for outlier detection\n",
        "isolation_forest = IsolationForest(contamination=0.05, random_state=0)\n",
        "isolation_forest_outliers = isolation_forest.fit_predict(n2o_values)\n",
        "\n",
        "# Apply One-Class SVM for outlier detection\n",
        "one_class_svm = OneClassSVM(nu=0.05)\n",
        "one_class_svm_outliers = one_class_svm.fit_predict(n2o_values)\n",
        "\n",
        "# Visualize outlier detection results\n",
        "plt.figure(figsize=(15, 10))\n",
        "\n",
        "plt.subplot(2, 3, 1)\n",
        "plt.scatter(df.index, n2o_values, c=dbscan_outliers, cmap='viridis')\n",
        "plt.xlabel('Data Points')\n",
        "plt.ylabel('N2O Values')\n",
        "plt.title('DBSCAN Outliers')\n",
        "\n",
        "plt.subplot(2, 3, 2)\n",
        "plt.scatter(df.index, n2o_values, c=optics_outliers, cmap='viridis')\n",
        "plt.xlabel('Data Points')\n",
        "plt.ylabel('N2O Values')\n",
        "plt.title('OPTICS Outliers')\n",
        "\n",
        "plt.subplot(2, 3, 3)\n",
        "plt.scatter(df.index, n2o_values, c=lof_outliers, cmap='viridis')\n",
        "plt.xlabel('Data Points')\n",
        "plt.ylabel('N2O Values')\n",
        "plt.title('LOF Outliers')\n",
        "\n",
        "plt.subplot(2, 3, 4)\n",
        "plt.scatter(df.index, n2o_values, c=cblof_outliers, cmap='viridis')\n",
        "plt.xlabel('Data Points')\n",
        "plt.ylabel('N2O Values')\n",
        "plt.title('CBLOF Outliers')\n",
        "\n",
        "plt.subplot(2, 3, 5)\n",
        "plt.scatter(df.index, n2o_values, c=robust_cov_outliers, cmap='viridis')\n",
        "plt.xlabel('Data Points')\n",
        "plt.ylabel('N2O Values')\n",
        "plt.title('Robust Covariance Estimation Outliers')\n",
        "\n",
        "plt.subplot(2, 3, 6)\n",
        "plt.scatter(df.index, n2o_values, c=isolation_forest_outliers, cmap='viridis')\n",
        "plt.xlabel('Data Points')\n",
        "plt.ylabel('N2O Values')\n",
        "plt.title('Isolation Forest Outliers')\n",
        "\n",
        "plt.tight_layout()\n",
        "plt.show()\n",
        "\n",
        "# Print the outlier tables\n",
        "print(\"DBSCAN Outlier Table:\")\n",
        "print(df[dbscan_outliers == -1])\n",
        "\n",
        "print(\"\\nOPTICS Outlier Table:\")\n",
        "print(df[optics_outliers == -1])\n",
        "\n",
        "print(\"\\nLOF Outlier Table:\")\n",
        "print(df[lof_outliers == -1])\n",
        "\n",
        "print(\"\\nCBLOF Outlier Table:\")\n",
        "print(df[cblof_outliers == -1])\n",
        "\n",
        "print(\"\\nRobust Covariance Estimation Outlier Table:\")\n",
        "print(df[robust_cov_outliers == -1])\n",
        "\n",
        "print(\"\\nIsolation Forest Outlier Table:\")\n",
        "print(df[isolation_forest_outliers == -1])\n",
        "\n",
        "print(\"\\nOneClass SVM Outlier Table:\")\n",
        "print(df[one_class_svm_outliers == -1])"
      ]
    },
    {
      "cell_type": "code",
      "execution_count": null,
      "metadata": {
        "id": "z1SQuXJsqObz",
        "outputId": "c2cfc020-6b27-4441-fd71-eed141ab7ccb"
      },
      "outputs": [],
      "source": [
        "df"
      ]
    },
    {
      "cell_type": "code",
      "execution_count": null,
      "metadata": {
        "id": "RkRcs6R4qOb1",
        "outputId": "392e9b46-6c71-4dba-9686-a0457776ae88"
      },
      "outputs": [],
      "source": [
        "# Extract the N2O column\n",
        "n2o_column = data['N2O']\n",
        "\n",
        "# Create a box plot of the N2O column\n",
        "plt.boxplot(n2o_column)\n",
        "plt.xlabel('N2O')\n",
        "plt.ylabel('Values')\n",
        "plt.title('Box Plot of N2O')\n",
        "plt.show()\n",
        "\n",
        "# Calculate the upper and lower fences\n",
        "q1 = n2o_column.quantile(0.25)\n",
        "q3 = n2o_column.quantile(0.75)\n",
        "iqr = q3 - q1\n",
        "lower_fence = q1 - 1.5 * iqr\n",
        "upper_fence = q3 + 1.5 * iqr\n",
        "\n",
        "# Identify potential outliers based on the box plot and maximum/minimum values\n",
        "outliers = n2o_column[(n2o_column < lower_fence) | (n2o_column > upper_fence) | (n2o_column > n2o_column.max()) | (n2o_column < n2o_column.min())]\n",
        "\n",
        "print(\"Potential outliers:\")\n",
        "print(outliers)"
      ]
    },
    {
      "cell_type": "code",
      "execution_count": null,
      "metadata": {
        "id": "a-9dM51_qOb2"
      },
      "outputs": [],
      "source": [
        "\n",
        "from sklearn.ensemble import IsolationForest\n",
        "from sklearn.neighbors import LocalOutlierFactor\n",
        "from sklearn.svm import OneClassSVM\n",
        "from sklearn.covariance import EllipticEnvelope\n",
        "from pyod.models.hbos import HBOS\n",
        "from scipy.spatial.distance import mahalanobis\n",
        "from sklearn.cluster import DBSCAN\n"
      ]
    },
    {
      "cell_type": "code",
      "execution_count": null,
      "metadata": {
        "colab": {
          "base_uri": "https://localhost:8080/",
          "height": 1000
        },
        "id": "MkSzZNTzqOb3",
        "outputId": "74ac1a7b-e3f9-44db-e8c5-9c6a5b1c33f5"
      },
      "outputs": [],
      "source": [
        "\n",
        "# Load the data\n",
        "# data = pd.read_csv('path_to_your_csv_file.csv')\n",
        "n2o_data = data[['N2O']]\n",
        "\n",
        "# Initialize the outlier detection models\n",
        "isolation_forest = IsolationForest(contamination=0.1, random_state=42)\n",
        "lof = LocalOutlierFactor(contamination=0.1)\n",
        "one_class_svm = OneClassSVM(nu=0.1)\n",
        "elliptic_envelope = EllipticEnvelope(contamination=0.1)\n",
        "hbos = HBOS()\n",
        "dbscan = DBSCAN(eps=0.5, min_samples=5)\n",
        "\n",
        "# Fit the models and predict outliers\n",
        "n2o_data['IF_Outlier'] = isolation_forest.fit_predict(n2o_data)\n",
        "n2o_data['LOF_Outlier'] = lof.fit_predict(n2o_data)\n",
        "n2o_data['OCSVM_Outlier'] = one_class_svm.fit_predict(n2o_data)\n",
        "n2o_data['Elliptic_Outlier'] = elliptic_envelope.fit_predict(n2o_data)\n",
        "n2o_data['HBOS_Outlier'] = hbos.fit_predict(n2o_data)\n",
        "n2o_data['DBSCAN_Outlier'] = dbscan.fit_predict(n2o_data)\n",
        "\n",
        "# Calculate Mahalanobis Distance and detect outliers\n",
        "cov_matrix = n2o_data[['N2O']].cov().to_numpy()\n",
        "mean_distr = n2o_data[['N2O']].mean().to_numpy()\n",
        "inv_cov_matrix = np.linalg.inv(cov_matrix)\n",
        "\n",
        "def mahalanobis_distance(x, mean, inv_cov_matrix):\n",
        "    return mahalanobis(x, mean, inv_cov_matrix)\n",
        "\n",
        "n2o_data['Mahalanobis_Distance'] = n2o_data[['N2O']].apply(lambda x: mahalanobis_distance(x, mean_distr, inv_cov_matrix), axis=1)\n",
        "threshold = n2o_data['Mahalanobis_Distance'].quantile(0.95)\n",
        "n2o_data['Mahalanobis_Outlier'] = (n2o_data['Mahalanobis_Distance'] > threshold).astype(int)\n",
        "\n",
        "# Save the results to a CSV file\n",
        "n2o_data.to_csv('n2o_outlier_detection_results.csv', index=False)\n",
        "\n",
        "# Visualize the results\n",
        "plt.figure(figsize=(12, 6))\n",
        "\n",
        "# Plot the original data with outliers highlighted\n",
        "plt.scatter(n2o_data.index, n2o_data['N2O'], color='blue', label='Data')\n",
        "plt.scatter(n2o_data.index[n2o_data['IF_Outlier'] == -1], n2o_data['N2O'][n2o_data['IF_Outlier'] == -1], color='red', label='Isolation Forest Outliers')\n",
        "plt.scatter(n2o_data.index[n2o_data['LOF_Outlier'] == -1], n2o_data['N2O'][n2o_data['LOF_Outlier'] == -1], color='green', label='LOF Outliers')\n",
        "plt.scatter(n2o_data.index[n2o_data['OCSVM_Outlier'] == -1], n2o_data['N2O'][n2o_data['OCSVM_Outlier'] == -1], color='orange', label='One-Class SVM Outliers')\n",
        "plt.scatter(n2o_data.index[n2o_data['Elliptic_Outlier'] == -1], n2o_data['N2O'][n2o_data['Elliptic_Outlier'] == -1], color='purple', label='Elliptic Envelope Outliers')\n",
        "plt.scatter(n2o_data.index[n2o_data['HBOS_Outlier'] == -1], n2o_data['N2O'][n2o_data['HBOS_Outlier'] == -1], color='brown', label='HBOS Outliers')\n",
        "plt.scatter(n2o_data.index[n2o_data['DBSCAN_Outlier'] == -1], n2o_data['N2O'][n2o_data['DBSCAN_Outlier'] == -1], color='pink', label='DBSCAN Outliers')\n",
        "plt.scatter(n2o_data.index[n2o_data['Mahalanobis_Outlier'] == 1], n2o_data['N2O'][n2o_data['Mahalanobis_Outlier'] == 1], color='black', label='Mahalanobis Outliers')\n",
        "\n",
        "# Adding labels and title\n",
        "plt.title('N2O Outlier Detection Results')\n",
        "plt.xlabel('Index')\n",
        "plt.ylabel('N2O Values')\n",
        "plt.legend()\n",
        "plt.show()"
      ]
    },
    {
      "cell_type": "code",
      "execution_count": null,
      "metadata": {
        "id": "MYRAoXWaqOb4"
      },
      "outputs": [],
      "source": [
        "file_path = 'dataset/agriculture_dataset.csv'\n",
        "data = pd.read_csv(file_path)"
      ]
    },
    {
      "cell_type": "code",
      "execution_count": null,
      "metadata": {
        "colab": {
          "base_uri": "https://localhost:8080/",
          "height": 444
        },
        "id": "18bjYcbwuQ5g",
        "outputId": "4caed755-af6f-449b-db1c-4a7c5214aeec"
      },
      "outputs": [],
      "source": [
        "data"
      ]
    },
    {
      "cell_type": "code",
      "execution_count": null,
      "metadata": {
        "colab": {
          "base_uri": "https://localhost:8080/",
          "height": 548
        },
        "id": "gnBQ9VZLqOb5",
        "outputId": "f7dccda4-8b42-4f96-cec7-b2adcfc47fee"
      },
      "outputs": [],
      "source": [
        "from sklearn.metrics import precision_score, recall_score, f1_score\n",
        "\n",
        "# Load the data\n",
        "# file_path = 'path_to_your_csv_file.csv'\n",
        "# data = pd.read_csv(file_path)\n",
        "X = data[['N2O']]\n",
        "\n",
        "# Initialize the outlier detection models\n",
        "isolation_forest = IsolationForest(contamination=0.1, random_state=42)\n",
        "lof = LocalOutlierFactor(contamination=0.1, novelty=True)\n",
        "one_class_svm = OneClassSVM(nu=0.1)\n",
        "elliptic_envelope = EllipticEnvelope(contamination=0.1)\n",
        "hbos = HBOS()\n",
        "dbscan = DBSCAN(eps=0.5, min_samples=5)\n",
        "\n",
        "# Fit the models and predict outliers\n",
        "data['if_outlier'] = isolation_forest.fit_predict(X)\n",
        "lof.fit(X)\n",
        "data['lof_outlier'] = lof.predict(X)\n",
        "data['ocsvm_outlier'] = one_class_svm.fit_predict(X)\n",
        "data['elliptic_outlier'] = elliptic_envelope.fit_predict(X)\n",
        "data['hbos_outlier'] = hbos.fit_predict(X)\n",
        "data['dbscan_outlier'] = dbscan.fit_predict(X)\n",
        "\n",
        "# Calculate Mahalanobis Distance and detect outliers\n",
        "cov_matrix = X.cov().to_numpy()\n",
        "mean_distr = X.mean().to_numpy()\n",
        "inv_cov_matrix = np.linalg.inv(cov_matrix)\n",
        "\n",
        "def mahalanobis_distance(x, mean, inv_cov_matrix):\n",
        "    return mahalanobis(x, mean, inv_cov_matrix)\n",
        "\n",
        "data['mahalanobis_distance'] = X.apply(lambda x: mahalanobis_distance(x, mean_distr, inv_cov_matrix), axis=1)\n",
        "threshold = data['mahalanobis_distance'].quantile(0.95)\n",
        "data['mahalanobis_outlier'] = (data['mahalanobis_distance'] > threshold).astype(int)\n",
        "\n",
        "# Generate synthetic ground truth labels for evaluation purposes\n",
        "# Creating a synthetic ground truth based on majority voting of outliers\n",
        "data['majority_voting'] = data.apply(lambda row: 1 if row[['if_outlier', 'lof_outlier', 'ocsvm_outlier', 'elliptic_outlier', 'hbos_outlier', 'dbscan_outlier', 'mahalanobis_outlier']].mode()[0] == 1 else -1, axis=1)\n",
        "\n",
        "# Append the outlier results to the original data\n",
        "# data = pd.concat([data, data[['IF_outlier', 'LOF_Outlier', 'OCSVM_Outlier', 'Elliptic_Outlier', 'HBOS_Outlier', 'DBSCAN_Outlier', 'mahalanobis_Outlier', 'Majority_Voting']]], axis=1)\n",
        "\n",
        "# Save the updated data to the CSV file\n",
        "data.to_csv('dataset/09_05_1_AgricultureOutliersResult_30052024.csv', index=False)"
      ]
    },
    {
      "cell_type": "markdown",
      "metadata": {
        "id": "ILWcf1GMux5P"
      },
      "source": []
    },
    {
      "cell_type": "code",
      "execution_count": null,
      "metadata": {
        "colab": {
          "base_uri": "https://localhost:8080/",
          "height": 444
        },
        "id": "XPk_YGLmtrZx",
        "outputId": "1bcabf3c-e0e5-4cb9-cb20-df35e56cba2f"
      },
      "outputs": [],
      "source": [
        "data"
      ]
    },
    {
      "cell_type": "code",
      "execution_count": null,
      "metadata": {
        "colab": {
          "base_uri": "https://localhost:8080/",
          "height": 1000
        },
        "id": "BIg-F9bJqOb6",
        "outputId": "0ce44fb8-5654-4edc-bda4-c937480acda9"
      },
      "outputs": [],
      "source": [
        "\n",
        "# Generate synthetic ground truth labels for evaluation purposes\n",
        "# Here, we'll assume that '1' indicates inliers and '-1' indicates outliers in the original data\n",
        "# This is just for the sake of comparison; in a real scenario, ground truth labels would be known\n",
        "# Creating a synthetic ground truth based on majority voting of outliers\n",
        "# data['majority_voting'] = data.apply(lambda row: 1 if row[['IF_Outlier', 'LOF_Outlier', 'OCSVM_Outlier', 'Elliptic_Outlier', 'HBOS_Outlier', 'DBSCAN_Outlier', 'Mahalanobis_Outlier']].mode()[0] == 1 else -1, axis=1)\n",
        "\n",
        "# Calculate precision, recall, and F1-score for each method\n",
        "evaluation_metrics = {}\n",
        "\n",
        "# methods = ['IF_Outlier', 'LOF_Outlier', 'OCSVM_Outlier', 'Elliptic_Outlier', 'HBOS_Outlier', 'DBSCAN_Outlier', 'Mahalanobis_Outlier']\n",
        "methods = ['if_outlier', 'lof_outlier', 'ocsvm_outlier', 'elliptic_outlier', 'hbos_outlier', 'dbscan_outlier', 'mahalanobis_outlier']\n",
        "\n",
        "for method in methods:\n",
        "    precision = precision_score(data['majority_voting'], data[method], pos_label=-1, average='macro')\n",
        "    recall = recall_score(data['majority_voting'], data[method], pos_label=-1, average='macro')\n",
        "    f1 = f1_score(data['majority_voting'], data[method], pos_label=-1, average='macro')\n",
        "    evaluation_metrics[method] = {'Precision': precision, 'Recall': recall, 'F1-Score': f1}\n",
        "\n",
        "\n",
        "# Convert the evaluation metrics to a DataFrame for better visualization\n",
        "evaluation_df = pd.DataFrame(evaluation_metrics).T\n",
        "\n",
        "# Save the evaluation results to a CSV file\n",
        "evaluation_df.to_csv('dataset/09_05_2_n2o_outlier_detection_evaluation.csv', index=True)\n",
        "\n",
        "# Display the evaluation results\n",
        "evaluation_df"
      ]
    },
    {
      "cell_type": "code",
      "execution_count": null,
      "metadata": {
        "colab": {
          "base_uri": "https://localhost:8080/"
        },
        "id": "nMrxPnXS0Y-Y",
        "outputId": "42c3944a-1e96-4489-be9e-a7f9ba8bdd91"
      },
      "outputs": [],
      "source": [
        "from sklearn.metrics import precision_score, recall_score, f1_score, average_precision_score, roc_auc_score\n",
        "\n",
        "# Generate synthetic ground truth labels for evaluation purposes\n",
        "data['Majority_Voting'] = data.apply(lambda row: 1 if row[['IF_Outlier', 'LOF_Outlier', 'OCSVM_Outlier', 'Elliptic_Outlier', 'HBOS_Outlier', 'DBSCAN_Outlier', 'Mahalanobis_Outlier']].mode()[0] == 1 else -1, axis=1)\n",
        "\n",
        "# Convert outlier labels to binary (1 for outliers, 0 for inliers) for evaluation metrics\n",
        "y_true = (data['Majority_Voting'] == -1).astype(int)\n",
        "\n",
        "# Calculate evaluation metrics for each method\n",
        "evaluation_metrics = {}\n",
        "\n",
        "methods = ['IF_Outlier', 'LOF_Outlier', 'OCSVM_Outlier', 'Elliptic_Outlier', 'HBOS_Outlier', 'DBSCAN_Outlier', 'Mahalanobis_Outlier']\n",
        "\n",
        "for method in methods:\n",
        "    y_pred = (data[method] == -1).astype(int)\n",
        "\n",
        "    precision = precision_score(y_true, y_pred)\n",
        "    recall = recall_score(y_true, y_pred)\n",
        "    f1 = f1_score(y_true, y_pred)\n",
        "    ap = average_precision_score(y_true, y_pred)\n",
        "    auc_roc = roc_auc_score(y_true, y_pred)\n",
        "    ade = np.mean(np.abs(y_true - y_pred))\n",
        "\n",
        "    evaluation_metrics[method] = {\n",
        "        'Precision': precision,\n",
        "        'Recall': recall,\n",
        "        'F1-Score': f1,\n",
        "        'Average Precision': ap,\n",
        "        'AUC-ROC': auc_roc,\n",
        "        'ADE': ade\n",
        "    }\n",
        "\n",
        "# Convert the evaluation metrics to a DataFrame for better visualization\n",
        "evaluation_df = pd.DataFrame(evaluation_metrics).T\n",
        "\n",
        "# Save the evaluation results to a CSV file\n",
        "evaluation_df.to_csv('dataset/09_05_3_AgricultureOutliersEvaluationMatrix_30052024.csv', index=True)\n",
        "\n",
        "# Save the updated data with outlier detection results\n",
        "data.to_csv('dataset/09_05_3_AgricultureOutliersResultMatrix_30052024.csv', index=False)\n",
        "\n",
        "# Display the evaluation results\n",
        "print(evaluation_df)\n",
        "\n",
        "# Display the updated dataframe with outlier detection results\n",
        "print(data.head())"
      ]
    },
    {
      "cell_type": "code",
      "execution_count": null,
      "metadata": {
        "colab": {
          "base_uri": "https://localhost:8080/",
          "height": 988
        },
        "id": "6sy7nyHy1nwA",
        "outputId": "32e6d476-2add-440a-cc80-b30ff4779a26"
      },
      "outputs": [],
      "source": [
        "# Visualization\n",
        "evaluation_df.plot(kind='bar', figsize=(15, 10))\n",
        "plt.title('Evaluation Metrics for Outlier Detection Methods')\n",
        "plt.ylabel('Score')\n",
        "plt.xlabel('Outlier Detection Methods')\n",
        "plt.legend(loc='upper right')\n",
        "plt.xticks(rotation=45)\n",
        "plt.grid(True)\n",
        "plt.show()"
      ]
    },
    {
      "cell_type": "code",
      "execution_count": null,
      "metadata": {
        "colab": {
          "base_uri": "https://localhost:8080/",
          "height": 1000
        },
        "id": "ghYapavn2mts",
        "outputId": "6a2542f3-0972-40ee-ef7d-38726c8c3a53"
      },
      "outputs": [],
      "source": [
        "# Visualization of comparison of metrics across methods\n",
        "fig, axes = plt.subplots(3, 2, figsize=(15, 15))\n",
        "fig.suptitle('Comparison of Evaluation Metrics Across Outlier Detection Methods')\n",
        "\n",
        "# Precision\n",
        "evaluation_df[['Precision']].plot(kind='bar', ax=axes[0, 0], legend=False)\n",
        "axes[0, 0].set_title('Precision')\n",
        "axes[0, 0].set_ylabel('Score')\n",
        "\n",
        "# Recall\n",
        "evaluation_df[['Recall']].plot(kind='bar', ax=axes[0, 1], legend=False)\n",
        "axes[0, 1].set_title('Recall')\n",
        "axes[0, 1].set_ylabel('Score')\n",
        "\n",
        "# F1-Score\n",
        "evaluation_df[['F1-Score']].plot(kind='bar', ax=axes[1, 0], legend=False)\n",
        "axes[1, 0].set_title('F1-Score')\n",
        "axes[1, 0].set_ylabel('Score')\n",
        "\n",
        "# Average Precision\n",
        "evaluation_df[['Average Precision']].plot(kind='bar', ax=axes[1, 1], legend=False)\n",
        "axes[1, 1].set_title('Average Precision')\n",
        "axes[1, 1].set_ylabel('Score')\n",
        "\n",
        "# AUC-ROC\n",
        "evaluation_df[['AUC-ROC']].plot(kind='bar', ax=axes[2, 0], legend=False)\n",
        "axes[2, 0].set_title('AUC-ROC')\n",
        "axes[2, 0].set_ylabel('Score')\n",
        "\n",
        "# ADE\n",
        "evaluation_df[['ADE']].plot(kind='bar', ax=axes[2, 1], legend=False)\n",
        "axes[2, 1].set_title('ADE')\n",
        "axes[2, 1].set_ylabel('Score')\n",
        "\n",
        "plt.tight_layout(rect=[0, 0.03, 1, 0.95])\n",
        "plt.show()\n",
        "data"
      ]
    },
    {
      "cell_type": "code",
      "execution_count": null,
      "metadata": {
        "colab": {
          "base_uri": "https://localhost:8080/",
          "height": 1000
        },
        "id": "Tpd5kkfB4F4W",
        "outputId": "d5afb7ab-2b14-4395-c602-d44c9dae2e87"
      },
      "outputs": [],
      "source": [
        "# Calculate evaluation metrics for each method and ROC curves\n",
        "from sklearn.metrics import precision_score, recall_score, f1_score, average_precision_score, roc_auc_score, roc_curve, auc\n",
        "\n",
        "\n",
        "evaluation_metrics = {}\n",
        "roc_curves = {}\n",
        "\n",
        "methods = ['IF_Outlier', 'LOF_Outlier', 'OCSVM_Outlier', 'Elliptic_Outlier', 'HBOS_Outlier', 'DBSCAN_Outlier', 'Mahalanobis_Outlier']\n",
        "\n",
        "for method in methods:\n",
        "    y_pred = (data[method] == -1).astype(int)\n",
        "\n",
        "    precision = precision_score(y_true, y_pred)\n",
        "    recall = recall_score(y_true, y_pred)\n",
        "    f1 = f1_score(y_true, y_pred)\n",
        "    ap = average_precision_score(y_true, y_pred)\n",
        "    auc_roc = roc_auc_score(y_true, y_pred)\n",
        "    ade = np.mean(np.abs(y_true - y_pred))\n",
        "\n",
        "    fpr, tpr, _ = roc_curve(y_true, y_pred)\n",
        "    roc_auc = auc(fpr, tpr)\n",
        "    roc_curves[method] = (fpr, tpr, roc_auc)\n",
        "\n",
        "    evaluation_metrics[method] = {\n",
        "        'Precision': precision,\n",
        "        'Recall': recall,\n",
        "        'F1-Score': f1,\n",
        "        'Average Precision': ap,\n",
        "        'AUC-ROC': auc_roc,\n",
        "        'ADE': ade\n",
        "    }\n",
        "\n",
        "# Convert the evaluation metrics to a DataFrame for better visualization\n",
        "evaluation_df = pd.DataFrame(evaluation_metrics).T\n",
        "\n",
        "# Save the evaluation results to a CSV file\n",
        "evaluation_df.to_csv('dataset/09_03_04_AgricultureOutliersEvaluation.csv', index=True)\n",
        "\n",
        "# Save the updated data with outlier detection results\n",
        "data.to_csv('dataset/09_03_4_AgricultureOutliersResult.csv', index=False)\n",
        "\n",
        "# Display the evaluation results\n",
        "print(evaluation_df)\n",
        "\n",
        "# Visualization of AUC-ROC curves\n",
        "plt.figure(figsize=(10, 8))\n",
        "\n",
        "for method, (fpr, tpr, roc_auc) in roc_curves.items():\n",
        "    plt.plot(fpr, tpr, lw=2, label=f'{method} (AUC = {roc_auc:.2f})')\n",
        "\n",
        "plt.plot([0, 1], [0, 1], color='navy', lw=2, linestyle='--')\n",
        "plt.xlim([0.0, 1.0])\n",
        "plt.ylim([0.0, 1.05])\n",
        "plt.xlabel('False Positive Rate')\n",
        "plt.ylabel('True Positive Rate')\n",
        "plt.title('Receiver Operating Characteristic (ROC) Curves')\n",
        "plt.legend(loc='lower right')\n",
        "plt.grid(True)\n",
        "plt.show()"
      ]
    }
  ],
  "metadata": {
    "colab": {
      "provenance": []
    },
    "kernelspec": {
      "display_name": "Python 3",
      "language": "python",
      "name": "python3"
    },
    "language_info": {
      "codemirror_mode": {
        "name": "ipython",
        "version": 3
      },
      "file_extension": ".py",
      "mimetype": "text/x-python",
      "name": "python",
      "nbconvert_exporter": "python",
      "pygments_lexer": "ipython3",
      "version": "3.12.3"
    }
  },
  "nbformat": 4,
  "nbformat_minor": 0
}
