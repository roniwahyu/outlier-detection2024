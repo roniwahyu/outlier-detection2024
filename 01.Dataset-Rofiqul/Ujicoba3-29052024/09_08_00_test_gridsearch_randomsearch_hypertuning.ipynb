{
 "cells": [
  {
   "cell_type": "code",
   "execution_count": null,
   "metadata": {},
   "outputs": [],
   "source": [
    "import xgboost as xgb\n",
    "from sklearn.model_selection import train_test_split, GridSearchCV, RandomizedSearchCV\n",
    "from sklearn.metrics import mean_squared_error, mean_absolute_error, r2_score\n",
    "import numpy as np\n",
    "from scipy.stats import uniform, randint\n",
    "\n",
    "# Assume you have your data loaded as X and y\n"
   ]
  },
  {
   "cell_type": "code",
   "execution_count": null,
   "metadata": {},
   "outputs": [],
   "source": [
    "\n",
    "# Grid Search\n",
    "param_grid = {\n",
    "    'max_depth': [4, 6, 8, 10],\n",
    "    'learning_rate': [0.01, 0.05, 0.1, 0.2],\n",
    "    'n_estimators': [100, 200, 300, 400, 500],\n",
    "    'subsample': [0.6, 0.7, 0.8, 0.9],\n",
    "    'colsample_bytree': [0.6, 0.7, 0.8, 0.9]\n",
    "}\n",
    "\n",
    "model_grid = xgb.XGBRegressor(random_state=42)\n",
    "grid_search = GridSearchCV(model_grid, param_grid, cv=5, scoring='neg_mean_squared_error', n_jobs=-1)\n",
    "grid_search.fit(X_train, y_train)\n",
    "\n",
    "best_params_grid = grid_search.best_params_\n",
    "best_score_grid = -grid_search.best_score_\n"
   ]
  },
  {
   "cell_type": "code",
   "execution_count": null,
   "metadata": {},
   "outputs": [],
   "source": [
    "\n",
    "# Random Search\n",
    "param_distributions = {\n",
    "    'max_depth': randint(4, 11),\n",
    "    'learning_rate': uniform(0.01, 0.29),\n",
    "    'n_estimators': randint(100, 501),\n",
    "    'subsample': uniform(0.5, 0.5),\n",
    "    'colsample_bytree': uniform(0.5, 0.5)\n",
    "}\n",
    "\n",
    "model_random = xgb.XGBRegressor(random_state=42)\n",
    "random_search = RandomizedSearchCV(model_random, param_distributions, n_iter=25, cv=5, scoring='neg_mean_squared_error', random_state=42, n_jobs=-1)\n",
    "random_search.fit(X_train, y_train)\n",
    "\n",
    "best_params_random = random_search.best_params_\n",
    "best_score_random = -random_search.best_score_\n"
   ]
  },
  {
   "cell_type": "code",
   "execution_count": null,
   "metadata": {},
   "outputs": [],
   "source": [
    "\n",
    "# Train final models with the best hyperparameters found\n",
    "model_grid = xgb.XGBRegressor(**best_params_grid, random_state=42)\n",
    "model_random = xgb.XGBRegressor(**best_params_random, random_state=42)\n",
    "\n",
    "model_grid.fit(X_train, y_train)\n",
    "model_random.fit(X_train, y_train)"
   ]
  },
  {
   "cell_type": "code",
   "execution_count": null,
   "metadata": {},
   "outputs": [],
   "source": []
  }
 ],
 "metadata": {
  "language_info": {
   "name": "python"
  }
 },
 "nbformat": 4,
 "nbformat_minor": 2
}
