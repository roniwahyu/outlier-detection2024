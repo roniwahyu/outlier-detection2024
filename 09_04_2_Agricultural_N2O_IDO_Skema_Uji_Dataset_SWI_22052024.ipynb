{
  "cells": [
    {
      "cell_type": "code",
      "execution_count": 1,
      "metadata": {
        "colab": {
          "base_uri": "https://localhost:8080/"
        },
        "id": "BEeCBFnnIEYp",
        "outputId": "76d59ba9-2c75-4efb-eeea-5ef68dece2de"
      },
      "outputs": [
        {
          "name": "stdout",
          "output_type": "stream",
          "text": [
            "Mounted at /content/drive\n",
            "/content/drive/MyDrive/Colab Notebooks/Disertasi-Ahmad-Rofiqul/002.Experiment_SWI_16052024\n"
          ]
        }
      ],
      "source": [
        "from google.colab import drive\n",
        "drive.mount('/content/drive', force_remount=True)\n",
        "%cd /content/drive/MyDrive/Colab Notebooks/Disertasi-Ahmad-Rofiqul/002.Experiment_SWI_16052024/"
      ]
    },
    {
      "cell_type": "code",
      "execution_count": 2,
      "metadata": {
        "id": "vFbHJ-ZQIYTy"
      },
      "outputs": [],
      "source": [
        "import numpy as np\n",
        "import pandas as pd\n",
        "from sklearn.model_selection import train_test_split\n",
        "from sklearn.ensemble import IsolationForest\n",
        "from sklearn.cluster import DBSCAN\n",
        "from sklearn.preprocessing import StandardScaler\n",
        "from sklearn.impute import SimpleImputer\n",
        "from sklearn.metrics import classification_report\n",
        "from xgboost import XGBRegressor\n",
        "from sklearn.metrics import r2_score, mean_absolute_error, mean_squared_error\n",
        "from sklearn.svm import OneClassSVM"
      ]
    },
    {
      "cell_type": "code",
      "execution_count": 5,
      "metadata": {
        "colab": {
          "base_uri": "https://localhost:8080/"
        },
        "id": "vaIdxFi2Iilq",
        "outputId": "1b54702f-00e7-4ce0-84b7-f9a4221d5714"
      },
      "outputs": [
        {
          "name": "stdout",
          "output_type": "stream",
          "text": [
            "<class 'pandas.core.frame.DataFrame'>\n",
            "RangeIndex: 2246 entries, 0 to 2245\n",
            "Data columns (total 30 columns):\n",
            " #   Column               Non-Null Count  Dtype  \n",
            "---  ------               --------------  -----  \n",
            " 0   Date                 2246 non-null   object \n",
            " 1   Year                 2246 non-null   float64\n",
            " 2   Experiment           2246 non-null   object \n",
            " 3   DataUse              2246 non-null   object \n",
            " 4   Replication          2246 non-null   object \n",
            " 5   Month                2246 non-null   object \n",
            " 6   Vegetation           2246 non-null   object \n",
            " 7   VegType              2246 non-null   object \n",
            " 8   N2O                  2246 non-null   float64\n",
            " 9   N_rate               2246 non-null   float64\n",
            " 10  PP2                  2246 non-null   float64\n",
            " 11  PP7                  2246 non-null   float64\n",
            " 12  AirT                 2246 non-null   float64\n",
            " 13  DAF_TD               2246 non-null   float64\n",
            " 14  DAF_SD               2246 non-null   float64\n",
            " 15  WFPS25cm             2246 non-null   float64\n",
            " 16  NH4                  2246 non-null   float64\n",
            " 17  NO3                  2246 non-null   float64\n",
            " 18  Clay                 2246 non-null   float64\n",
            " 19  Sand                 2246 non-null   float64\n",
            " 20  SOM                  2246 non-null   float64\n",
            " 21  Outlier              2246 non-null   int64  \n",
            " 22  IF_Outlier           2246 non-null   int64  \n",
            " 23  DBSCAN_Outlier       2246 non-null   int64  \n",
            " 24  OCSVM_Outlier        2246 non-null   int64  \n",
            " 25  IF_Label             2246 non-null   object \n",
            " 26  DBSCAN_Label         2246 non-null   object \n",
            " 27  OCSVM_Label          2246 non-null   object \n",
            " 28  Hard_Voting_Outlier  2246 non-null   int64  \n",
            " 29  Soft_Vote_Outlier    2246 non-null   int64  \n",
            "dtypes: float64(14), int64(6), object(10)\n",
            "memory usage: 526.5+ KB\n"
          ]
        },
        {
          "data": {
            "text/plain": [
              "(      Date      Year Experiment   DataUse Replication     Month Vegetation  \\\n",
              " 0   2/9/12  0.020682   BCSE_KBS  Building          R1  February       Corn   \n",
              " 1  2/10/12  0.020682   BCSE_KBS  Building          R1  February       Corn   \n",
              " 2  2/18/12  0.020682   BCSE_KBS  Building          R1  February       Corn   \n",
              " 3  2/19/12  0.020682   BCSE_KBS  Building          R1  February       Corn   \n",
              " 4  3/16/12  0.020682   BCSE_KBS  Building          R1     March       Corn   \n",
              " \n",
              "   VegType       N2O    N_rate  ...       SOM  Outlier  IF_Outlier  \\\n",
              " 0  Annual -0.125408  0.481233  ... -0.642242        1           1   \n",
              " 1  Annual -0.185324  0.481233  ... -0.642242        1           1   \n",
              " 2  Annual -0.137842  0.481233  ... -0.642242        1           1   \n",
              " 3  Annual -0.144855  0.481233  ... -0.642242        1           1   \n",
              " 4  Annual -0.158726  0.481233  ... -0.642242        1           1   \n",
              " \n",
              "    DBSCAN_Outlier  OCSVM_Outlier     IF_Label  DBSCAN_Label  OCSVM_Label  \\\n",
              " 0               0              1  not outlier   not outlier  not outlier   \n",
              " 1               0              1  not outlier   not outlier  not outlier   \n",
              " 2               0              1  not outlier   not outlier  not outlier   \n",
              " 3               0              1  not outlier   not outlier  not outlier   \n",
              " 4               0              1  not outlier   not outlier  not outlier   \n",
              " \n",
              "    Hard_Voting_Outlier  Soft_Vote_Outlier  \n",
              " 0                    1                  1  \n",
              " 1                    1                  1  \n",
              " 2                    1                  1  \n",
              " 3                    1                  1  \n",
              " 4                    1                  1  \n",
              " \n",
              " [5 rows x 30 columns],\n",
              " None)"
            ]
          },
          "execution_count": 5,
          "metadata": {},
          "output_type": "execute_result"
        }
      ],
      "source": [
        "# Load the dataset\n",
        "file_path = '01.Dataset-Rofiqul/012_N2O_Soft_Voting_agriculture_dataset.csv'\n",
        "data = pd.read_csv(file_path)\n",
        "\n",
        "# Display the first few rows of the dataset for review\n",
        "data.head(), data.info()"
      ]
    },
    {
      "cell_type": "markdown",
      "metadata": {
        "id": "k5_qkL_aI9al"
      },
      "source": [
        "##  Missing Value Handling"
      ]
    },
    {
      "cell_type": "code",
      "execution_count": 4,
      "metadata": {
        "colab": {
          "base_uri": "https://localhost:8080/"
        },
        "id": "X4jxZIgUI8Sf",
        "outputId": "3ef9637d-ea33-4d49-b89a-4ac54eb38fe7"
      },
      "outputs": [
        {
          "data": {
            "text/plain": [
              "Date                   0\n",
              "Year                   0\n",
              "Experiment             0\n",
              "DataUse                0\n",
              "Replication            0\n",
              "Month                  0\n",
              "Vegetation             0\n",
              "VegType                0\n",
              "N2O                    0\n",
              "N_rate                 0\n",
              "PP2                    0\n",
              "PP7                    0\n",
              "AirT                   0\n",
              "DAF_TD                 0\n",
              "DAF_SD                 0\n",
              "WFPS25cm               0\n",
              "NH4                    0\n",
              "NO3                    0\n",
              "Clay                   0\n",
              "Sand                   0\n",
              "SOM                    0\n",
              "Outlier                0\n",
              "IF_Outlier             0\n",
              "DBSCAN_Outlier         0\n",
              "OCSVM_Outlier          0\n",
              "IF_Label               0\n",
              "DBSCAN_Label           0\n",
              "OCSVM_Label            0\n",
              "Hard_Voting_Outlier    0\n",
              "Soft_Vote_Outlier      0\n",
              "dtype: int64"
            ]
          },
          "execution_count": 4,
          "metadata": {},
          "output_type": "execute_result"
        }
      ],
      "source": [
        "missing_values_count = data.isna().sum()\n",
        "missing_values_count"
      ]
    },
    {
      "cell_type": "markdown",
      "metadata": {
        "id": "lC8BVujhKCzP"
      },
      "source": [
        "## Prepare Train Test Split"
      ]
    },
    {
      "cell_type": "code",
      "execution_count": 13,
      "metadata": {
        "id": "o_6_ldwdKBy8"
      },
      "outputs": [],
      "source": [
        "from sklearn.model_selection import train_test_split\n",
        "from sklearn.preprocessing import LabelEncoder\n",
        "from sklearn.metrics import mean_squared_error, mean_absolute_error, r2_score\n",
        "import xgboost as xgb\n"
      ]
    },
    {
      "cell_type": "code",
      "execution_count": 11,
      "metadata": {
        "id": "1OEWYGaMKo9J"
      },
      "outputs": [],
      "source": [
        "# Encode categorical variables if any\n",
        "label_encoders = {}\n",
        "for column in data.select_dtypes(include=['object']).columns:\n",
        "    label_encoders[column] = LabelEncoder()\n",
        "    data[column] = label_encoders[column].fit_transform(data[column])\n",
        "\n",
        "# Split the data into features and target variable\n",
        "X = data.drop(columns=['N2O'])\n",
        "y = data['N2O']\n"
      ]
    },
    {
      "cell_type": "markdown",
      "metadata": {
        "id": "HxjgjCetLR9G"
      },
      "source": [
        "## First Initial Training Testing Data Split and XGBoost Prediction"
      ]
    },
    {
      "cell_type": "code",
      "execution_count": 18,
      "metadata": {
        "colab": {
          "base_uri": "https://localhost:8080/"
        },
        "id": "BKg_QvylLQg3",
        "outputId": "276489ea-144a-49ad-8419-a9f1be5f80de"
      },
      "outputs": [
        {
          "name": "stdout",
          "output_type": "stream",
          "text": [
            "(1796, 29) (450, 29) (1796,) (450,)\n"
          ]
        }
      ],
      "source": [
        "#MANUAL TESTING TRAINING SPLIT\n",
        "# Split the data into training and testing sets\n",
        "X_train, X_test, y_train, y_test = train_test_split(X, y, test_size=0.2, random_state=42)\n",
        "\n",
        "# Display shapes of the training and testing sets\n",
        "print(X_train.shape, X_test.shape, y_train.shape, y_test.shape)"
      ]
    },
    {
      "cell_type": "code",
      "execution_count": 21,
      "metadata": {
        "colab": {
          "base_uri": "https://localhost:8080/"
        },
        "id": "H4eVhtSZLf5Z",
        "outputId": "42823fc6-3618-4903-af13-15a6c0e04da1"
      },
      "outputs": [
        {
          "name": "stdout",
          "output_type": "stream",
          "text": [
            "Mean Squared Error: 0.5149188796794761\n",
            "Root Mean Squared Error: 0.7175784832890937\n"
          ]
        }
      ],
      "source": [
        "# Initialize the XGBoost model\n",
        "model = xgb.XGBRegressor(objective='reg:squarederror', random_state=42)\n",
        "\n",
        "# Train the model\n",
        "model.fit(X_train, y_train)\n",
        "\n",
        "# Make predictions on the test set\n",
        "y_pred = model.predict(X_test)\n",
        "\n",
        "# Evaluate the model's performance\n",
        "mse = mean_squared_error(y_test, y_pred)\n",
        "rmse = mean_squared_error(y_test, y_pred, squared=False)\n",
        "print(f\"Mean Squared Error: {mse}\")\n",
        "print(f\"Root Mean Squared Error: {rmse}\")"
      ]
    },
    {
      "cell_type": "code",
      "execution_count": 23,
      "metadata": {
        "colab": {
          "base_uri": "https://localhost:8080/",
          "height": 1000
        },
        "id": "InZGGUQ1MDFU",
        "outputId": "0dccf440-4e99-4ae3-c656-20b443d512b1"
      },
      "outputs": [
        {
          "data": {
            "image/png": "[encoded data removed]",
            "text/plain": [
              "<Figure size 1000x600 with 1 Axes>"
            ]
          },
          "metadata": {},
          "output_type": "display_data"
        },
        {
          "data": {
            "text/plain": [
              "<Figure size 1000x600 with 0 Axes>"
            ]
          },
          "metadata": {},
          "output_type": "display_data"
        },
        {
          "data": {
            "image/png": "[encoded data removed]",
            "text/plain": [
              "<Figure size 640x480 with 1 Axes>"
            ]
          },
          "metadata": {},
          "output_type": "display_data"
        }
      ],
      "source": [
        "import matplotlib.pyplot as plt\n",
        "import seaborn as sns\n",
        "\n",
        "# Plot the actual vs predicted values\n",
        "plt.figure(figsize=(10, 6))\n",
        "sns.scatterplot(x=y_test, y=y_pred)\n",
        "plt.xlabel('Actual N2O')\n",
        "plt.ylabel('Predicted N2O')\n",
        "plt.title('Actual vs Predicted N2O')\n",
        "plt.savefig('01.Dataset-Rofiqul/Visual/001_ActualVsPredictedN2O.png')\n",
        "plt.show()\n",
        "\n",
        "# Plot feature importance\n",
        "plt.figure(figsize=(10, 6))\n",
        "xgb.plot_importance(model, max_num_features=10)\n",
        "plt.savefig('01.Dataset-Rofiqul/Visual/001_FeatureImportance.png')\n",
        "plt.title('Feature Importance')\n",
        "plt.show()"
      ]
    },
    {
      "cell_type": "code",
      "execution_count": 7,
      "metadata": {
        "colab": {
          "base_uri": "https://localhost:8080/",
          "height": 231
        },
        "id": "RxZjxGd7KO7n",
        "outputId": "602aa1f3-791b-4e24-81fd-4e602f0d3cc5"
      },
      "outputs": [
        {
          "ename": "NameError",
          "evalue": "name 'LabelEncoder' is not defined",
          "output_type": "error",
          "traceback": [
            "\u001b[0;31m---------------------------------------------------------------------------\u001b[0m",
            "\u001b[0;31mNameError\u001b[0m                                 Traceback (most recent call last)",
            "\u001b[0;32m<ipython-input-7-8a8f9e38d064>\u001b[0m in \u001b[0;36m<cell line: 3>\u001b[0;34m()\u001b[0m\n\u001b[1;32m      2\u001b[0m \u001b[0mlabel_encoders\u001b[0m \u001b[0;34m=\u001b[0m \u001b[0;34m{\u001b[0m\u001b[0;34m}\u001b[0m\u001b[0;34m\u001b[0m\u001b[0;34m\u001b[0m\u001b[0m\n\u001b[1;32m      3\u001b[0m \u001b[0;32mfor\u001b[0m \u001b[0mcolumn\u001b[0m \u001b[0;32min\u001b[0m \u001b[0mdata\u001b[0m\u001b[0;34m.\u001b[0m\u001b[0mselect_dtypes\u001b[0m\u001b[0;34m(\u001b[0m\u001b[0minclude\u001b[0m\u001b[0;34m=\u001b[0m\u001b[0;34m[\u001b[0m\u001b[0;34m'object'\u001b[0m\u001b[0;34m]\u001b[0m\u001b[0;34m)\u001b[0m\u001b[0;34m.\u001b[0m\u001b[0mcolumns\u001b[0m\u001b[0;34m:\u001b[0m\u001b[0;34m\u001b[0m\u001b[0;34m\u001b[0m\u001b[0m\n\u001b[0;32m----> 4\u001b[0;31m     \u001b[0mlabel_encoders\u001b[0m\u001b[0;34m[\u001b[0m\u001b[0mcolumn\u001b[0m\u001b[0;34m]\u001b[0m \u001b[0;34m=\u001b[0m \u001b[0mLabelEncoder\u001b[0m\u001b[0;34m(\u001b[0m\u001b[0;34m)\u001b[0m\u001b[0;34m\u001b[0m\u001b[0;34m\u001b[0m\u001b[0m\n\u001b[0m\u001b[1;32m      5\u001b[0m     \u001b[0mdata\u001b[0m\u001b[0;34m[\u001b[0m\u001b[0mcolumn\u001b[0m\u001b[0;34m]\u001b[0m \u001b[0;34m=\u001b[0m \u001b[0mlabel_encoders\u001b[0m\u001b[0;34m[\u001b[0m\u001b[0mcolumn\u001b[0m\u001b[0;34m]\u001b[0m\u001b[0;34m.\u001b[0m\u001b[0mfit_transform\u001b[0m\u001b[0;34m(\u001b[0m\u001b[0mdata\u001b[0m\u001b[0;34m[\u001b[0m\u001b[0mcolumn\u001b[0m\u001b[0;34m]\u001b[0m\u001b[0;34m)\u001b[0m\u001b[0;34m\u001b[0m\u001b[0;34m\u001b[0m\u001b[0m\n\u001b[1;32m      6\u001b[0m \u001b[0;34m\u001b[0m\u001b[0m\n",
            "\u001b[0;31mNameError\u001b[0m: name 'LabelEncoder' is not defined"
          ]
        }
      ],
      "source": [
        "test_sizes = [0.25, 0.3, 0.35]\n",
        "results = {}\n",
        "\n",
        "def train_and_evaluate(test_size):\n",
        "    # Split the data into training and testing sets\n",
        "    X_train, X_test, y_train, y_test = train_test_split(X, y, test_size=test_size, random_state=42)\n",
        "\n",
        "    # Initialize the XGBoost model\n",
        "    model = xgb.XGBRegressor(objective='reg:squarederror', random_state=42)\n",
        "\n",
        "    # Train the model\n",
        "    model.fit(X_train, y_train)\n",
        "\n",
        "    # Make predictions on the test set\n",
        "    y_pred = model.predict(X_test)\n",
        "\n",
        "    # Evaluate the model's performance\n",
        "    mse = mean_squared_error(y_test, y_pred)\n",
        "    rmse = mean_squared_error(y_test, y_pred, squared=False)\n",
        "    mae = mean_absolute_error(y_test, y_pred)\n",
        "    r2 = r2_score(y_test, y_pred)\n",
        "    print(f\"Test Size: {test_size}\")\n",
        "    print(f\"Mean Squared Error: {mse}\")\n",
        "    print(f\"Root Mean Squared Error: {rmse}\")\n",
        "    print(f\"Mean Absolute Error: {mae}\")\n",
        "    print(f\"R-squared: {r2}\")\n",
        "\n",
        "    # Plot the actual vs predicted values\n",
        "    plt.figure(figsize=(10, 6))\n",
        "    sns.scatterplot(x=y_test, y=y_pred)\n",
        "    plt.xlabel('Actual N2O')\n",
        "    plt.ylabel('Predicted N2O')\n",
        "    plt.title(f'Actual vs Predicted N2O (Test Size: {test_size})')\n",
        "    plt.show()\n",
        "\n",
        "    # Plot residuals\n",
        "    residuals = y_test - y_pred\n",
        "    plt.figure(figsize=(10, 6))\n",
        "    sns.histplot(residuals, kde=True)\n",
        "    plt.xlabel('Residuals')\n",
        "    plt.ylabel('Frequency')\n",
        "    plt.title(f'Residuals Distribution (Test Size: {test_size})')\n",
        "    plt.show()\n",
        "\n",
        "    return model, mse, rmse, mae, r2\n",
        "\n",
        "for test_size in test_sizes:\n",
        "    model, mse, rmse, mae, r2 = train_and_evaluate(test_size)\n",
        "    results[test_size] = {'model': model, 'mse': mse, 'rmse': rmse, 'mae': mae, 'r2': r2}\n",
        "\n",
        "# Display the results\n",
        "for test_size, metrics in results.items():\n",
        "    print(f\"Test Size: {test_size}\")\n",
        "    print(f\"Mean Squared Error: {metrics['mse']}\")\n",
        "    print(f\"Root Mean Squared Error: {metrics['rmse']}\")\n",
        "    print(f\"Mean Absolute Error: {metrics['mae']}\")\n",
        "    print(f\"R-squared: {metrics['r2']}\")\n",
        "    print(\"\\n\")"
      ]
    },
    {
      "cell_type": "markdown",
      "metadata": {
        "id": "5FzHT_QtJPLL"
      },
      "source": [
        "## Define GridSearch and RandomSearch Optimization Parameters"
      ]
    },
    {
      "cell_type": "markdown",
      "metadata": {
        "id": "XvKCIyPzL1Kb"
      },
      "source": []
    },
    {
      "cell_type": "code",
      "execution_count": null,
      "metadata": {
        "id": "NRr00Y26JVOk"
      },
      "outputs": [],
      "source": [
        "# Define the parameter grid\n",
        "param_grid = {\n",
        "    'n_estimators': [100, 200, 300],\n",
        "    'max_depth': [3, 5, 7],\n",
        "    'learning_rate': [0.01, 0.1, 0.2],\n",
        "    'subsample': [0.6, 0.8, 1.0],\n",
        "    'colsample_bytree': [0.6, 0.8, 1.0],\n",
        "    'min_child_weight': [1, 3, 5]\n",
        "}\n",
        "\n",
        "# Define the parameter distribution for RandomizedSearchCV\n",
        "param_dist = {\n",
        "    'n_estimators': [100, 200, 300, 400, 500],\n",
        "    'max_depth': [3, 4, 5, 6, 7, 8],\n",
        "    'learning_rate': [0.01, 0.05, 0.1, 0.2, 0.3],\n",
        "    'subsample': [0.6, 0.7, 0.8, 0.9, 1.0],\n",
        "    'colsample_bytree': [0.6, 0.7, 0.8, 0.9, 1.0],\n",
        "    'min_child_weight': [1, 2, 3, 4, 5, 6]\n",
        "}\n"
      ]
    },
    {
      "cell_type": "code",
      "execution_count": null,
      "metadata": {
        "id": "fHc4m67IG9tp"
      },
      "outputs": [],
      "source": [
        "\n",
        "#Implement a function to perform hyperparameter tuning using GridSearchCV and RandomizedSearchCV\n",
        "\n",
        "def hyperparameter_tuning(X_train, y_train, method='grid'):\n",
        "    # Initialize the XGBoost model\n",
        "    xgb_model = xgb.XGBRegressor(objective='reg:squarederror', random_state=42)\n",
        "\n",
        "    if method == 'grid':\n",
        "        # GridSearchCV\n",
        "        grid_search = GridSearchCV(estimator=xgb_model, param_grid=param_grid, cv=3, scoring='neg_mean_squared_error', verbose=2, n_jobs=-1)\n",
        "        grid_search.fit(X_train, y_train)\n",
        "        best_model = grid_search.best_estimator_\n",
        "        best_params = grid_search.best_params_\n",
        "    elif method == 'random':\n",
        "        # RandomizedSearchCV\n",
        "        random_search = RandomizedSearchCV(estimator=xgb_model, param_distributions=param_dist, n_iter=100, cv=3, scoring='neg_mean_squared_error', verbose=2, n_jobs=-1, random_state=42)\n",
        "        random_search.fit(X_train, y_train)\n",
        "        best_model = random_search.best_estimator_\n",
        "        best_params = random_search.best_params_\n",
        "\n",
        "    return best_model, best_params\n",
        "\n",
        "    Train and evaluate the model for different test sizes\n",
        "\n",
        "python\n",
        "\n",
        "def train_evaluate_tuning(test_size, tuning_method='grid'):\n",
        "    # Split the data into training and testing sets\n",
        "    X_train, X_test, y_train, y_test = train_test_split(X, y, test_size=test_size, random_state=42)\n",
        "\n",
        "    # Perform hyperparameter tuning\n",
        "    best_model, best_params = hyperparameter_tuning(X_train, y_train, method=tuning_method)\n",
        "\n",
        "    # Make predictions on the test set\n",
        "    y_pred = best_model.predict(X_test)\n",
        "\n",
        "    # Evaluate the model's performance\n",
        "    mse = mean_squared_error(y_test, y_pred)\n",
        "    rmse = mean_squared_error(y_test, y_pred, squared=False)\n",
        "    mae = mean_absolute_error(y_test, y_pred)\n",
        "    r2 = r2_score(y_test, y_pred)\n",
        "    print(f\"Test Size: {test_size}, Tuning Method: {tuning_method}\")\n",
        "    print(f\"Best Parameters: {best_params}\")\n",
        "    print(f\"Mean Squared Error: {mse}\")\n",
        "    print(f\"Root Mean Squared Error: {rmse}\")\n",
        "    print(f\"Mean Absolute Error: {mae}\")\n",
        "    print(f\"R-squared: {r2}\")\n",
        "\n",
        "    # Plot the actual vs predicted values\n",
        "    plt.figure(figsize=(10, 6))\n",
        "    sns.scatterplot(x=y_test, y=y_pred)\n",
        "    plt.xlabel('Actual N2O')\n",
        "    plt.ylabel('Predicted N2O')\n",
        "    plt.title(f'Actual vs Predicted N2O (Test Size: {test_size}, Tuning Method: {tuning_method})')\n",
        "    plt.show()\n",
        "\n",
        "    # Plot residuals\n",
        "    residuals = y_test - y_pred\n",
        "    plt.figure(figsize=(10, 6))\n",
        "    sns.histplot(residuals, kde=True)\n",
        "    plt.xlabel('Residuals')\n",
        "    plt.ylabel('Frequency')\n",
        "    plt.title(f'Residuals Distribution (Test Size: {test_size}, Tuning Method: {tuning_method})')\n",
        "    plt.show()\n",
        "\n",
        "    return best_model, mse, rmse, mae, r2\n",
        "\n",
        "    Compare the results across different test sizes and tuning methods\n",
        "\n",
        "python\n",
        "\n",
        "test_sizes = [0.2, 0.25, 0.3, 0.35]\n",
        "tuning_methods = ['grid', 'random']\n",
        "results = {}\n",
        "\n",
        "for test_size in test_sizes:\n",
        "    for method in tuning_methods:\n",
        "        model, mse, rmse, mae, r2 = train_evaluate_tuning(test_size, tuning_method=method)\n",
        "        results[(test_size, method)] = {'model': model, 'mse': mse, 'rmse': rmse, 'mae': mae, 'r2': r2}\n",
        "\n",
        "# Display the results\n",
        "for key, metrics in results.items():\n",
        "    test_size, method = key\n",
        "    print(f\"Test Size: {test_size}, Tuning Method: {method}\")\n",
        "    print(f\"Mean Squared Error: {metrics['mse']}\")\n",
        "    print(f\"Root Mean Squared Error: {metrics['rmse']}\")\n",
        "    print(f\"Mean Absolute Error: {metrics['mae']}\")\n",
        "    print(f\"R-squared: {metrics['r2']}\")\n",
        "    print(\"\\n\")\n",
        "\n",
        "Instructions:\n",
        "\n",
        "    Replace the file path with the actual path to your CSV file.\n",
        "    Run the code in your local Python environment step-by-step.\n",
        "    Ensure that you have the required libraries installed (pandas, xgboost, sklearn, matplotlib, seaborn).\n",
        "\n",
        "This code will train the XGBoost model with different test sizes and hyperparameter tuning methods (GridSearchCV and RandomizedSearchCV), evaluate their performance using multiple metrics, and plot the actual vs predicted values and residuals for each combination. This comparison will help you understand the impact of different test sizes and tuning methods on the model's performance.\n"
      ]
    }
  ],
  "metadata": {
    "colab": {
      "provenance": []
    },
    "kernelspec": {
      "display_name": "Python 3",
      "name": "python3"
    },
    "language_info": {
      "name": "python"
    }
  },
  "nbformat": 4,
  "nbformat_minor": 0
}
