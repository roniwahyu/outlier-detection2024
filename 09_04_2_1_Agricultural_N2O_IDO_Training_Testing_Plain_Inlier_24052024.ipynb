{
  "cells": [
    {
      "cell_type": "code",
      "execution_count": 7,
      "metadata": {
        "colab": {
          "base_uri": "https://localhost:8080/"
        },
        "id": "BEeCBFnnIEYp",
        "outputId": "76d59ba9-2c75-4efb-eeea-5ef68dece2de"
      },
      "outputs": [],
      "source": [
        "# from google.colab import drive\n",
        "# drive.mount('/content/drive', force_remount=True)\n",
        "# %cd /content/drive/MyDrive/Colab Notebooks/Disertasi-Ahmad-Rofiqul/002.Experiment_SWI_16052024/"
      ]
    },
    {
      "cell_type": "code",
      "execution_count": 8,
      "metadata": {
        "id": "vFbHJ-ZQIYTy"
      },
      "outputs": [],
      "source": [
        "import numpy as np\n",
        "import pandas as pd\n",
        "from sklearn.model_selection import train_test_split\n",
        "from sklearn.ensemble import IsolationForest\n",
        "from sklearn.cluster import DBSCAN\n",
        "from sklearn.preprocessing import StandardScaler\n",
        "from sklearn.impute import SimpleImputer\n",
        "from sklearn.metrics import classification_report\n",
        "from xgboost import XGBRegressor\n",
        "from sklearn.metrics import r2_score, mean_absolute_error, mean_squared_error\n",
        "from sklearn.svm import OneClassSVM"
      ]
    },
    {
      "cell_type": "code",
      "execution_count": 9,
      "metadata": {
        "colab": {
          "base_uri": "https://localhost:8080/"
        },
        "id": "vaIdxFi2Iilq",
        "outputId": "1b54702f-00e7-4ce0-84b7-f9a4221d5714"
      },
      "outputs": [
        {
          "name": "stdout",
          "output_type": "stream",
          "text": [
            "<class 'pandas.core.frame.DataFrame'>\n",
            "RangeIndex: 2246 entries, 0 to 2245\n",
            "Data columns (total 27 columns):\n",
            " #   Column               Non-Null Count  Dtype  \n",
            "---  ------               --------------  -----  \n",
            " 0   Date                 2246 non-null   int64  \n",
            " 1   Year                 2246 non-null   float64\n",
            " 2   Experiment           2246 non-null   int64  \n",
            " 3   DataUse              2246 non-null   int64  \n",
            " 4   Replication          2246 non-null   int64  \n",
            " 5   Month                2246 non-null   int64  \n",
            " 6   Vegetation           2246 non-null   int64  \n",
            " 7   VegType              2246 non-null   int64  \n",
            " 8   N2O                  2246 non-null   float64\n",
            " 9   N_rate               2246 non-null   float64\n",
            " 10  PP2                  2246 non-null   float64\n",
            " 11  PP7                  2246 non-null   float64\n",
            " 12  AirT                 2246 non-null   float64\n",
            " 13  DAF_TD               2246 non-null   float64\n",
            " 14  DAF_SD               2246 non-null   float64\n",
            " 15  WFPS25cm             2246 non-null   float64\n",
            " 16  NH4                  2246 non-null   float64\n",
            " 17  NO3                  2246 non-null   float64\n",
            " 18  Clay                 2246 non-null   float64\n",
            " 19  Sand                 2246 non-null   float64\n",
            " 20  SOM                  2246 non-null   float64\n",
            " 21  IF_Outlier           2246 non-null   int64  \n",
            " 22  DBSCAN_Outlier       2246 non-null   int64  \n",
            " 23  OCSVM_Outlier        2246 non-null   int64  \n",
            " 24  Hard_Voting_Outlier  2246 non-null   int64  \n",
            " 25  Soft_Vote_Outlier    2246 non-null   int64  \n",
            " 26  Soft_Voting_Outlier  2246 non-null   int64  \n",
            "dtypes: float64(14), int64(13)\n",
            "memory usage: 473.9 KB\n"
          ]
        },
        {
          "data": {
            "text/plain": [
              "(   Date      Year  Experiment  DataUse  Replication  Month  Vegetation  \\\n",
              " 0   424  0.020682           1        0            0      3           0   \n",
              " 1   360  0.020682           1        0            0      3           0   \n",
              " 2   379  0.020682           1        0            0      3           0   \n",
              " 3   382  0.020682           1        0            0      3           0   \n",
              " 4   455  0.020682           1        0            0      7           0   \n",
              " \n",
              "    VegType       N2O    N_rate  ...       NO3      Clay      Sand       SOM  \\\n",
              " 0        0 -0.125408  0.481233  ... -0.083017 -0.904182  0.796768 -0.642242   \n",
              " 1        0 -0.185324  0.481233  ... -0.082259 -0.904182  0.796768 -0.642242   \n",
              " 2        0 -0.137842  0.481233  ... -0.071667 -0.904182  0.796768 -0.642242   \n",
              " 3        0 -0.144855  0.481233  ... -0.069647 -0.904182  0.796768 -0.642242   \n",
              " 4        0 -0.158726  0.481233  ... -0.031903 -0.904182  0.796768 -0.642242   \n",
              " \n",
              "    IF_Outlier  DBSCAN_Outlier  OCSVM_Outlier  Hard_Voting_Outlier  \\\n",
              " 0           1              -1              1                    1   \n",
              " 1           1              -1              1                    1   \n",
              " 2           1               1              1                    1   \n",
              " 3           1               1              1                    1   \n",
              " 4           1              -1              1                    1   \n",
              " \n",
              "    Soft_Vote_Outlier  Soft_Voting_Outlier  \n",
              " 0                  1                    1  \n",
              " 1                  1                    1  \n",
              " 2                  1                    1  \n",
              " 3                  1                    1  \n",
              " 4                  1                    1  \n",
              " \n",
              " [5 rows x 27 columns],\n",
              " None)"
            ]
          },
          "execution_count": 9,
          "metadata": {},
          "output_type": "execute_result"
        }
      ],
      "source": [
        "# Load the dataset\n",
        "# file_path = '01.Dataset-Rofiqul/BeforeRemoveOutliers/013_N2O_After_HardVoting_Inliers.csv'\n",
        "# file_path = '01.Dataset-Rofiqul/BeforeRemoveOutliers/014_N2O_After_SoftVoting_Inliers.csv'\n",
        "# file_path = '01.Dataset-Rofiqul/BeforeRemoveOutliers/011_N2O_Soft_Voting_agriculture_dataset.csv'\n",
        "file_path = '01.Dataset-Rofiqul/BeforeRemoveOutliers/019_data_with_COMBINATION_hard_soft_voting_outliers.csv'\n",
        "data = pd.read_csv(file_path)\n",
        "\n",
        "# Display the first few rows of the dataset for review\n",
        "data.head(), data.info()"
      ]
    },
    {
      "cell_type": "code",
      "execution_count": 10,
      "metadata": {},
      "outputs": [
        {
          "data": {
            "text/html": [
              "<div>\n",
              "<style scoped>\n",
              "    .dataframe tbody tr th:only-of-type {\n",
              "        vertical-align: middle;\n",
              "    }\n",
              "\n",
              "    .dataframe tbody tr th {\n",
              "        vertical-align: top;\n",
              "    }\n",
              "\n",
              "    .dataframe thead th {\n",
              "        text-align: right;\n",
              "    }\n",
              "</style>\n",
              "<table border=\"1\" class=\"dataframe\">\n",
              "  <thead>\n",
              "    <tr style=\"text-align: right;\">\n",
              "      <th></th>\n",
              "      <th>Date</th>\n",
              "      <th>Year</th>\n",
              "      <th>Experiment</th>\n",
              "      <th>DataUse</th>\n",
              "      <th>Replication</th>\n",
              "      <th>Month</th>\n",
              "      <th>Vegetation</th>\n",
              "      <th>VegType</th>\n",
              "      <th>N2O</th>\n",
              "      <th>N_rate</th>\n",
              "      <th>...</th>\n",
              "      <th>NO3</th>\n",
              "      <th>Clay</th>\n",
              "      <th>Sand</th>\n",
              "      <th>SOM</th>\n",
              "      <th>IF_Outlier</th>\n",
              "      <th>DBSCAN_Outlier</th>\n",
              "      <th>OCSVM_Outlier</th>\n",
              "      <th>Hard_Voting_Outlier</th>\n",
              "      <th>Soft_Vote_Outlier</th>\n",
              "      <th>Soft_Voting_Outlier</th>\n",
              "    </tr>\n",
              "  </thead>\n",
              "  <tbody>\n",
              "    <tr>\n",
              "      <th>count</th>\n",
              "      <td>2246.000000</td>\n",
              "      <td>2.246000e+03</td>\n",
              "      <td>2246.000000</td>\n",
              "      <td>2246.000000</td>\n",
              "      <td>2246.000000</td>\n",
              "      <td>2246.000000</td>\n",
              "      <td>2246.000000</td>\n",
              "      <td>2246.0</td>\n",
              "      <td>2.246000e+03</td>\n",
              "      <td>2.246000e+03</td>\n",
              "      <td>...</td>\n",
              "      <td>2.246000e+03</td>\n",
              "      <td>2.246000e+03</td>\n",
              "      <td>2.246000e+03</td>\n",
              "      <td>2.246000e+03</td>\n",
              "      <td>2246.000000</td>\n",
              "      <td>2246.000000</td>\n",
              "      <td>2246.000000</td>\n",
              "      <td>2246.000000</td>\n",
              "      <td>2246.000000</td>\n",
              "      <td>2246.000000</td>\n",
              "    </tr>\n",
              "    <tr>\n",
              "      <th>mean</th>\n",
              "      <td>711.036064</td>\n",
              "      <td>1.518524e-14</td>\n",
              "      <td>1.083704</td>\n",
              "      <td>0.298308</td>\n",
              "      <td>0.882903</td>\n",
              "      <td>5.811220</td>\n",
              "      <td>0.266251</td>\n",
              "      <td>0.0</td>\n",
              "      <td>5.694465e-17</td>\n",
              "      <td>-5.061747e-17</td>\n",
              "      <td>...</td>\n",
              "      <td>8.858057e-17</td>\n",
              "      <td>1.012349e-16</td>\n",
              "      <td>-1.012349e-16</td>\n",
              "      <td>4.555572e-16</td>\n",
              "      <td>0.899377</td>\n",
              "      <td>-0.603740</td>\n",
              "      <td>0.894924</td>\n",
              "      <td>0.853072</td>\n",
              "      <td>0.918967</td>\n",
              "      <td>0.346394</td>\n",
              "    </tr>\n",
              "    <tr>\n",
              "      <th>std</th>\n",
              "      <td>383.586396</td>\n",
              "      <td>1.000223e+00</td>\n",
              "      <td>0.711429</td>\n",
              "      <td>0.457617</td>\n",
              "      <td>1.251850</td>\n",
              "      <td>3.531466</td>\n",
              "      <td>0.609056</td>\n",
              "      <td>0.0</td>\n",
              "      <td>1.000223e+00</td>\n",
              "      <td>1.000223e+00</td>\n",
              "      <td>...</td>\n",
              "      <td>1.000223e+00</td>\n",
              "      <td>1.000223e+00</td>\n",
              "      <td>1.000223e+00</td>\n",
              "      <td>1.000223e+00</td>\n",
              "      <td>0.437272</td>\n",
              "      <td>0.797359</td>\n",
              "      <td>0.446317</td>\n",
              "      <td>0.521909</td>\n",
              "      <td>0.394422</td>\n",
              "      <td>0.938298</td>\n",
              "    </tr>\n",
              "    <tr>\n",
              "      <th>min</th>\n",
              "      <td>0.000000</td>\n",
              "      <td>-2.744336e+00</td>\n",
              "      <td>0.000000</td>\n",
              "      <td>0.000000</td>\n",
              "      <td>0.000000</td>\n",
              "      <td>0.000000</td>\n",
              "      <td>0.000000</td>\n",
              "      <td>0.0</td>\n",
              "      <td>-5.225740e-01</td>\n",
              "      <td>-2.548103e+00</td>\n",
              "      <td>...</td>\n",
              "      <td>-9.942643e-01</td>\n",
              "      <td>-9.041825e-01</td>\n",
              "      <td>-1.858163e+00</td>\n",
              "      <td>-6.422422e-01</td>\n",
              "      <td>-1.000000</td>\n",
              "      <td>-1.000000</td>\n",
              "      <td>-1.000000</td>\n",
              "      <td>-1.000000</td>\n",
              "      <td>-1.000000</td>\n",
              "      <td>-1.000000</td>\n",
              "    </tr>\n",
              "    <tr>\n",
              "      <th>25%</th>\n",
              "      <td>390.000000</td>\n",
              "      <td>-2.558196e-01</td>\n",
              "      <td>1.000000</td>\n",
              "      <td>0.000000</td>\n",
              "      <td>0.000000</td>\n",
              "      <td>3.000000</td>\n",
              "      <td>0.000000</td>\n",
              "      <td>0.0</td>\n",
              "      <td>-2.445164e-01</td>\n",
              "      <td>-1.424538e-01</td>\n",
              "      <td>...</td>\n",
              "      <td>-5.872878e-01</td>\n",
              "      <td>-9.041825e-01</td>\n",
              "      <td>-1.998760e-01</td>\n",
              "      <td>-6.422422e-01</td>\n",
              "      <td>1.000000</td>\n",
              "      <td>-1.000000</td>\n",
              "      <td>1.000000</td>\n",
              "      <td>1.000000</td>\n",
              "      <td>1.000000</td>\n",
              "      <td>-1.000000</td>\n",
              "    </tr>\n",
              "    <tr>\n",
              "      <th>50%</th>\n",
              "      <td>727.000000</td>\n",
              "      <td>2.971840e-01</td>\n",
              "      <td>1.000000</td>\n",
              "      <td>0.000000</td>\n",
              "      <td>0.000000</td>\n",
              "      <td>6.000000</td>\n",
              "      <td>0.000000</td>\n",
              "      <td>0.0</td>\n",
              "      <td>-1.929840e-01</td>\n",
              "      <td>4.812329e-01</td>\n",
              "      <td>...</td>\n",
              "      <td>-1.965173e-01</td>\n",
              "      <td>-7.658135e-02</td>\n",
              "      <td>1.320853e-01</td>\n",
              "      <td>-6.310047e-01</td>\n",
              "      <td>1.000000</td>\n",
              "      <td>-1.000000</td>\n",
              "      <td>1.000000</td>\n",
              "      <td>1.000000</td>\n",
              "      <td>1.000000</td>\n",
              "      <td>1.000000</td>\n",
              "    </tr>\n",
              "    <tr>\n",
              "      <th>75%</th>\n",
              "      <td>1032.000000</td>\n",
              "      <td>5.736858e-01</td>\n",
              "      <td>2.000000</td>\n",
              "      <td>1.000000</td>\n",
              "      <td>2.000000</td>\n",
              "      <td>9.000000</td>\n",
              "      <td>0.000000</td>\n",
              "      <td>0.0</td>\n",
              "      <td>-8.008564e-02</td>\n",
              "      <td>4.812329e-01</td>\n",
              "      <td>...</td>\n",
              "      <td>8.159093e-02</td>\n",
              "      <td>6.137847e-01</td>\n",
              "      <td>7.967675e-01</td>\n",
              "      <td>-6.913331e-02</td>\n",
              "      <td>1.000000</td>\n",
              "      <td>-1.000000</td>\n",
              "      <td>1.000000</td>\n",
              "      <td>1.000000</td>\n",
              "      <td>1.000000</td>\n",
              "      <td>1.000000</td>\n",
              "    </tr>\n",
              "    <tr>\n",
              "      <th>max</th>\n",
              "      <td>1363.000000</td>\n",
              "      <td>1.403191e+00</td>\n",
              "      <td>2.000000</td>\n",
              "      <td>1.000000</td>\n",
              "      <td>4.000000</td>\n",
              "      <td>11.000000</td>\n",
              "      <td>2.000000</td>\n",
              "      <td>0.0</td>\n",
              "      <td>2.056053e+01</td>\n",
              "      <td>1.247477e+00</td>\n",
              "      <td>...</td>\n",
              "      <td>8.636700e+00</td>\n",
              "      <td>1.830044e+00</td>\n",
              "      <td>7.967675e-01</td>\n",
              "      <td>2.294188e+00</td>\n",
              "      <td>1.000000</td>\n",
              "      <td>1.000000</td>\n",
              "      <td>1.000000</td>\n",
              "      <td>1.000000</td>\n",
              "      <td>1.000000</td>\n",
              "      <td>1.000000</td>\n",
              "    </tr>\n",
              "  </tbody>\n",
              "</table>\n",
              "<p>8 rows × 27 columns</p>\n",
              "</div>"
            ],
            "text/plain": [
              "              Date          Year   Experiment      DataUse  Replication  \\\n",
              "count  2246.000000  2.246000e+03  2246.000000  2246.000000  2246.000000   \n",
              "mean    711.036064  1.518524e-14     1.083704     0.298308     0.882903   \n",
              "std     383.586396  1.000223e+00     0.711429     0.457617     1.251850   \n",
              "min       0.000000 -2.744336e+00     0.000000     0.000000     0.000000   \n",
              "25%     390.000000 -2.558196e-01     1.000000     0.000000     0.000000   \n",
              "50%     727.000000  2.971840e-01     1.000000     0.000000     0.000000   \n",
              "75%    1032.000000  5.736858e-01     2.000000     1.000000     2.000000   \n",
              "max    1363.000000  1.403191e+00     2.000000     1.000000     4.000000   \n",
              "\n",
              "             Month   Vegetation  VegType           N2O        N_rate  ...  \\\n",
              "count  2246.000000  2246.000000   2246.0  2.246000e+03  2.246000e+03  ...   \n",
              "mean      5.811220     0.266251      0.0  5.694465e-17 -5.061747e-17  ...   \n",
              "std       3.531466     0.609056      0.0  1.000223e+00  1.000223e+00  ...   \n",
              "min       0.000000     0.000000      0.0 -5.225740e-01 -2.548103e+00  ...   \n",
              "25%       3.000000     0.000000      0.0 -2.445164e-01 -1.424538e-01  ...   \n",
              "50%       6.000000     0.000000      0.0 -1.929840e-01  4.812329e-01  ...   \n",
              "75%       9.000000     0.000000      0.0 -8.008564e-02  4.812329e-01  ...   \n",
              "max      11.000000     2.000000      0.0  2.056053e+01  1.247477e+00  ...   \n",
              "\n",
              "                NO3          Clay          Sand           SOM   IF_Outlier  \\\n",
              "count  2.246000e+03  2.246000e+03  2.246000e+03  2.246000e+03  2246.000000   \n",
              "mean   8.858057e-17  1.012349e-16 -1.012349e-16  4.555572e-16     0.899377   \n",
              "std    1.000223e+00  1.000223e+00  1.000223e+00  1.000223e+00     0.437272   \n",
              "min   -9.942643e-01 -9.041825e-01 -1.858163e+00 -6.422422e-01    -1.000000   \n",
              "25%   -5.872878e-01 -9.041825e-01 -1.998760e-01 -6.422422e-01     1.000000   \n",
              "50%   -1.965173e-01 -7.658135e-02  1.320853e-01 -6.310047e-01     1.000000   \n",
              "75%    8.159093e-02  6.137847e-01  7.967675e-01 -6.913331e-02     1.000000   \n",
              "max    8.636700e+00  1.830044e+00  7.967675e-01  2.294188e+00     1.000000   \n",
              "\n",
              "       DBSCAN_Outlier  OCSVM_Outlier  Hard_Voting_Outlier  Soft_Vote_Outlier  \\\n",
              "count     2246.000000    2246.000000          2246.000000        2246.000000   \n",
              "mean        -0.603740       0.894924             0.853072           0.918967   \n",
              "std          0.797359       0.446317             0.521909           0.394422   \n",
              "min         -1.000000      -1.000000            -1.000000          -1.000000   \n",
              "25%         -1.000000       1.000000             1.000000           1.000000   \n",
              "50%         -1.000000       1.000000             1.000000           1.000000   \n",
              "75%         -1.000000       1.000000             1.000000           1.000000   \n",
              "max          1.000000       1.000000             1.000000           1.000000   \n",
              "\n",
              "       Soft_Voting_Outlier  \n",
              "count          2246.000000  \n",
              "mean              0.346394  \n",
              "std               0.938298  \n",
              "min              -1.000000  \n",
              "25%              -1.000000  \n",
              "50%               1.000000  \n",
              "75%               1.000000  \n",
              "max               1.000000  \n",
              "\n",
              "[8 rows x 27 columns]"
            ]
          },
          "execution_count": 10,
          "metadata": {},
          "output_type": "execute_result"
        }
      ],
      "source": [
        "data.describe()"
      ]
    },
    {
      "cell_type": "code",
      "execution_count": 11,
      "metadata": {},
      "outputs": [
        {
          "name": "stdout",
          "output_type": "stream",
          "text": [
            "Hard Voting\n",
            "Data Outlier: 165\n",
            "Data Inlier: 2081\n",
            "Soft Voting\n",
            "Data Outlier: 734\n",
            "Data Inlier: 1512\n"
          ]
        }
      ],
      "source": [
        "print('Hard Voting')\n",
        "print(\"Data Outlier: \"+str((data['Hard_Voting_Outlier'] != 1).sum()))\n",
        "print(\"Data Inlier: \"+str((data['Hard_Voting_Outlier'] == 1).sum()))\n",
        "print('Soft Voting')\n",
        "print(\"Data Outlier: \"+str((data['Soft_Voting_Outlier'] != 1).sum()))\n",
        "print(\"Data Inlier: \"+str((data['Soft_Voting_Outlier'] == 1).sum()))"
      ]
    },
    {
      "cell_type": "code",
      "execution_count": 12,
      "metadata": {},
      "outputs": [
        {
          "name": "stdout",
          "output_type": "stream",
          "text": [
            "<class 'pandas.core.frame.DataFrame'>\n",
            "Index: 1512 entries, 0 to 2244\n",
            "Data columns (total 27 columns):\n",
            " #   Column               Non-Null Count  Dtype  \n",
            "---  ------               --------------  -----  \n",
            " 0   Date                 1512 non-null   int64  \n",
            " 1   Year                 1512 non-null   float64\n",
            " 2   Experiment           1512 non-null   int64  \n",
            " 3   DataUse              1512 non-null   int64  \n",
            " 4   Replication          1512 non-null   int64  \n",
            " 5   Month                1512 non-null   int64  \n",
            " 6   Vegetation           1512 non-null   int64  \n",
            " 7   VegType              1512 non-null   int64  \n",
            " 8   N2O                  1512 non-null   float64\n",
            " 9   N_rate               1512 non-null   float64\n",
            " 10  PP2                  1512 non-null   float64\n",
            " 11  PP7                  1512 non-null   float64\n",
            " 12  AirT                 1512 non-null   float64\n",
            " 13  DAF_TD               1512 non-null   float64\n",
            " 14  DAF_SD               1512 non-null   float64\n",
            " 15  WFPS25cm             1512 non-null   float64\n",
            " 16  NH4                  1512 non-null   float64\n",
            " 17  NO3                  1512 non-null   float64\n",
            " 18  Clay                 1512 non-null   float64\n",
            " 19  Sand                 1512 non-null   float64\n",
            " 20  SOM                  1512 non-null   float64\n",
            " 21  IF_Outlier           1512 non-null   int64  \n",
            " 22  DBSCAN_Outlier       1512 non-null   int64  \n",
            " 23  OCSVM_Outlier        1512 non-null   int64  \n",
            " 24  Hard_Voting_Outlier  1512 non-null   int64  \n",
            " 25  Soft_Vote_Outlier    1512 non-null   int64  \n",
            " 26  Soft_Voting_Outlier  1512 non-null   int64  \n",
            "dtypes: float64(14), int64(13)\n",
            "memory usage: 330.8 KB\n"
          ]
        },
        {
          "data": {
            "text/plain": [
              "(   Date      Year  Experiment  DataUse  Replication  Month  Vegetation  \\\n",
              " 0   424  0.020682           1        0            0      3           0   \n",
              " 1   360  0.020682           1        0            0      3           0   \n",
              " 2   379  0.020682           1        0            0      3           0   \n",
              " 3   382  0.020682           1        0            0      3           0   \n",
              " 4   455  0.020682           1        0            0      7           0   \n",
              " \n",
              "    VegType       N2O    N_rate  ...       NO3      Clay      Sand       SOM  \\\n",
              " 0        0 -0.125408  0.481233  ... -0.083017 -0.904182  0.796768 -0.642242   \n",
              " 1        0 -0.185324  0.481233  ... -0.082259 -0.904182  0.796768 -0.642242   \n",
              " 2        0 -0.137842  0.481233  ... -0.071667 -0.904182  0.796768 -0.642242   \n",
              " 3        0 -0.144855  0.481233  ... -0.069647 -0.904182  0.796768 -0.642242   \n",
              " 4        0 -0.158726  0.481233  ... -0.031903 -0.904182  0.796768 -0.642242   \n",
              " \n",
              "    IF_Outlier  DBSCAN_Outlier  OCSVM_Outlier  Hard_Voting_Outlier  \\\n",
              " 0           1              -1              1                    1   \n",
              " 1           1              -1              1                    1   \n",
              " 2           1               1              1                    1   \n",
              " 3           1               1              1                    1   \n",
              " 4           1              -1              1                    1   \n",
              " \n",
              "    Soft_Vote_Outlier  Soft_Voting_Outlier  \n",
              " 0                  1                    1  \n",
              " 1                  1                    1  \n",
              " 2                  1                    1  \n",
              " 3                  1                    1  \n",
              " 4                  1                    1  \n",
              " \n",
              " [5 rows x 27 columns],\n",
              " None)"
            ]
          },
          "execution_count": 12,
          "metadata": {},
          "output_type": "execute_result"
        }
      ],
      "source": [
        "#redeclare data variabel now only contain inlier\n",
        "data=data[data['Soft_Voting_Outlier'] == 1]\n",
        "data.head(),data.info()"
      ]
    },
    {
      "cell_type": "markdown",
      "metadata": {
        "id": "lC8BVujhKCzP"
      },
      "source": [
        "## Prepare Train Test Split"
      ]
    },
    {
      "cell_type": "code",
      "execution_count": 13,
      "metadata": {
        "id": "o_6_ldwdKBy8"
      },
      "outputs": [],
      "source": [
        "from sklearn.model_selection import train_test_split\n",
        "from sklearn.preprocessing import LabelEncoder\n",
        "from sklearn.metrics import mean_squared_error, mean_absolute_error, r2_score\n",
        "import xgboost as xgb\n"
      ]
    },
    {
      "cell_type": "code",
      "execution_count": 40,
      "metadata": {
        "id": "1OEWYGaMKo9J"
      },
      "outputs": [],
      "source": [
        "# Encode categorical variables if any\n",
        "label_encoders = {}\n",
        "for column in data.select_dtypes(include=['object']).columns:\n",
        "    label_encoders[column] = LabelEncoder()\n",
        "    data[column] = label_encoders[column].fit_transform(data[column])\n",
        "\n",
        "# Split the data into features and target variable\n",
        "X = data.drop(columns=['N2O'])\n",
        "y = data['N2O']\n"
      ]
    },
    {
      "cell_type": "markdown",
      "metadata": {
        "id": "HxjgjCetLR9G"
      },
      "source": [
        "## First Initial Training Testing Data Split and XGBoost Prediction"
      ]
    },
    {
      "cell_type": "code",
      "execution_count": 29,
      "metadata": {},
      "outputs": [],
      "source": [
        "testsize=0.25"
      ]
    },
    {
      "cell_type": "code",
      "execution_count": 30,
      "metadata": {
        "colab": {
          "base_uri": "https://localhost:8080/"
        },
        "id": "BKg_QvylLQg3",
        "outputId": "276489ea-144a-49ad-8419-a9f1be5f80de"
      },
      "outputs": [
        {
          "name": "stdout",
          "output_type": "stream",
          "text": [
            "(1134, 26) (378, 26) (1134,) (378,)\n"
          ]
        }
      ],
      "source": [
        "#MANUAL TESTING TRAINING SPLIT\n",
        "# Split the data into training and testing sets\n",
        "X_train, X_test, y_train, y_test = train_test_split(X, y, test_size=testsize, random_state=42)\n",
        "\n",
        "# Display shapes of the training and testing sets\n",
        "print(X_train.shape, X_test.shape, y_train.shape, y_test.shape)"
      ]
    },
    {
      "cell_type": "code",
      "execution_count": 37,
      "metadata": {},
      "outputs": [
        {
          "name": "stdout",
          "output_type": "stream",
          "text": [
            "Training data shape: (1134, 26)\n",
            "Testing data shape: (378, 26)\n"
          ]
        }
      ],
      "source": [
        "# Display shapes of the training and testing sets\n",
        "train_shape = X_train.shape\n",
        "test_shape = X_test.shape\n",
        "print(f\"Training data shape: {train_shape}\")\n",
        "print(f\"Testing data shape: {test_shape}\")\n",
        "\n",
        "# Summary of the training and testing sets\n",
        "summary = {\n",
        "    'Set': ['Training', 'Testing'],\n",
        "    'Samples': [train_shape[0], test_shape[0]],\n",
        "    'Features': [train_shape[1], test_shape[1]],\n",
        "    'Target samples': [y_train.shape[0], y_test.shape[0]],\n",
        "    'Test Size':testsize\n",
        "}\n",
        "\n",
        "summary_df = pd.DataFrame(summary)\n",
        "summary_df\n",
        "summary_df.to_csv('01.Dataset-Rofiqul/AfterRemoveOutliers/019_1_Samples_'+(str(int(testsize*100)))+'_train_test_plain_24052024.csv', index=False)\n"
      ]
    },
    {
      "cell_type": "code",
      "execution_count": 38,
      "metadata": {
        "colab": {
          "base_uri": "https://localhost:8080/"
        },
        "id": "H4eVhtSZLf5Z",
        "outputId": "42823fc6-3618-4903-af13-15a6c0e04da1"
      },
      "outputs": [
        {
          "name": "stdout",
          "output_type": "stream",
          "text": [
            "Mean Squared Error: 0.016526099209191087\n",
            "Root Mean Squared Error: 0.12855387667896712\n",
            "Mean Absolute Error: 0.0828693856500823\n",
            "R-squared: 0.6091163887657314\n"
          ]
        },
        {
          "name": "stderr",
          "output_type": "stream",
          "text": [
            "/home/codespace/.local/lib/python3.10/site-packages/sklearn/metrics/_regression.py:483: FutureWarning: 'squared' is deprecated in version 1.4 and will be removed in 1.6. To calculate the root mean squared error, use the function'root_mean_squared_error'.\n",
            "  warnings.warn(\n"
          ]
        },
        {
          "data": {
            "text/html": [
              "<div>\n",
              "<style scoped>\n",
              "    .dataframe tbody tr th:only-of-type {\n",
              "        vertical-align: middle;\n",
              "    }\n",
              "\n",
              "    .dataframe tbody tr th {\n",
              "        vertical-align: top;\n",
              "    }\n",
              "\n",
              "    .dataframe thead th {\n",
              "        text-align: right;\n",
              "    }\n",
              "</style>\n",
              "<table border=\"1\" class=\"dataframe\">\n",
              "  <thead>\n",
              "    <tr style=\"text-align: right;\">\n",
              "      <th></th>\n",
              "      <th>mse</th>\n",
              "      <th>rmse</th>\n",
              "      <th>mae</th>\n",
              "      <th>r2</th>\n",
              "    </tr>\n",
              "  </thead>\n",
              "  <tbody>\n",
              "    <tr>\n",
              "      <th>0</th>\n",
              "      <td>0.016526</td>\n",
              "      <td>0.128554</td>\n",
              "      <td>0.082869</td>\n",
              "      <td>0.609116</td>\n",
              "    </tr>\n",
              "  </tbody>\n",
              "</table>\n",
              "</div>"
            ],
            "text/plain": [
              "        mse      rmse       mae        r2\n",
              "0  0.016526  0.128554  0.082869  0.609116"
            ]
          },
          "execution_count": 38,
          "metadata": {},
          "output_type": "execute_result"
        }
      ],
      "source": [
        "# Initialize the XGBoost model\n",
        "model = xgb.XGBRegressor(objective='reg:squarederror', random_state=42)\n",
        "\n",
        "# Train the model\n",
        "model.fit(X_train, y_train)\n",
        "\n",
        "# Make predictions on the test set\n",
        "y_pred = model.predict(X_test)\n",
        "\n",
        "# Evaluate the model's performance\n",
        "mse = mean_squared_error(y_test, y_pred)\n",
        "rmse = mean_squared_error(y_test, y_pred, squared=False)\n",
        "mae = mean_absolute_error(y_test, y_pred)\n",
        "r2 = r2_score(y_test, y_pred)\n",
        "print(f\"Mean Squared Error: {mse}\")\n",
        "print(f\"Root Mean Squared Error: {rmse}\")\n",
        "print(f\"Mean Absolute Error: {mae}\")\n",
        "print(f\"R-squared: {r2}\")\n",
        "\n",
        "# Store the metrics in a summary dictionary\n",
        "summary=['Metric','Value']\n",
        "summary = {\n",
        "    'mse': mse,\n",
        "    'rmse': rmse,\n",
        "    'mae': mae,\n",
        "    'r2': r2\n",
        "}\n",
        "\n",
        "\n",
        "# Convert results to a DataFrame\n",
        "eval_df = pd.DataFrame(summary,index=[0])\n",
        "# Save the results to a CSV file\n",
        "eval_df.to_csv('01.Dataset-Rofiqul/AfterRemoveOutliers/020_hasil_performance_summary_test_'+(str(int(testsize*100)))+'_plain_24052024.csv', index=False)\n",
        "eval_df"
      ]
    },
    {
      "cell_type": "code",
      "execution_count": 39,
      "metadata": {
        "colab": {
          "base_uri": "https://localhost:8080/",
          "height": 1000
        },
        "id": "InZGGUQ1MDFU",
        "outputId": "0dccf440-4e99-4ae3-c656-20b443d512b1"
      },
      "outputs": [
        {
          "data": {
            "image/png": "[encoded data removed]",
            "text/plain": [
              "<Figure size 1000x600 with 1 Axes>"
            ]
          },
          "metadata": {},
          "output_type": "display_data"
        },
        {
          "data": {
            "text/plain": [
              "<Figure size 1000x600 with 0 Axes>"
            ]
          },
          "metadata": {},
          "output_type": "display_data"
        },
        {
          "data": {
            "image/png": "[encoded data removed]",
            "text/plain": [
              "<Figure size 640x480 with 1 Axes>"
            ]
          },
          "metadata": {},
          "output_type": "display_data"
        }
      ],
      "source": [
        "import matplotlib.pyplot as plt\n",
        "import seaborn as sns\n",
        "\n",
        "# Plot the actual vs predicted values\n",
        "plt.figure(figsize=(10, 6))\n",
        "sns.scatterplot(x=y_test, y=y_pred)\n",
        "plt.xlabel('Actual N2O')\n",
        "plt.ylabel('Predicted N2O')\n",
        "plt.title('Actual vs Predicted N2O')\n",
        "plt.savefig('01.Dataset-Rofiqul/Visual/AfterRemoveOutliers/001_ActualVsPredictedN2O_test_'+(str(int(testsize*100)))+'_NoOutlier.png')\n",
        "plt.show()\n",
        "\n",
        "# Plot feature importance\n",
        "plt.figure(figsize=(10, 6))\n",
        "xgb.plot_importance(model, max_num_features=10)\n",
        "plt.savefig('01.Dataset-Rofiqul/Visual/AfterRemoveOutliers/001_FeatureImportance_test_'+(str(int(testsize*100)))+'_NoOutlier.png')\n",
        "plt.title('Feature Importance')\n",
        "plt.show()"
      ]
    },
    {
      "cell_type": "markdown",
      "metadata": {},
      "source": [
        "### Outlier Detection with IDO and Combination of Hard Voting and Soft Voting"
      ]
    },
    {
      "cell_type": "code",
      "execution_count": 35,
      "metadata": {},
      "outputs": [],
      "source": [
        "# Assume that 'N2O' is the target column and other columns are features\n",
        "features = data.drop(columns=['N2O'])\n",
        "target = data['N2O']\n",
        "\n",
        "# Standardize the features\n",
        "scaler = StandardScaler()\n",
        "scaled_features = scaler.fit_transform(features)"
      ]
    }
  ],
  "metadata": {
    "colab": {
      "provenance": []
    },
    "kernelspec": {
      "display_name": "Python 3",
      "name": "python3"
    },
    "language_info": {
      "codemirror_mode": {
        "name": "ipython",
        "version": 3
      },
      "file_extension": ".py",
      "mimetype": "text/x-python",
      "name": "python",
      "nbconvert_exporter": "python",
      "pygments_lexer": "ipython3",
      "version": "3.10.13"
    }
  },
  "nbformat": 4,
  "nbformat_minor": 0
}
